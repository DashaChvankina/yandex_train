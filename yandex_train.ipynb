{
  "cells": [
    {
      "cell_type": "markdown",
      "id": "99587181",
      "metadata": {
        "id": "99587181"
      },
      "source": [
        "# Тренировки по алгоритмам от яндекса"
      ]
    },
    {
      "cell_type": "markdown",
      "id": "e839a28c",
      "metadata": {
        "id": "e839a28c"
      },
      "source": [
        "# Контест 1"
      ]
    },
    {
      "cell_type": "code",
      "execution_count": null,
      "id": "c36b5ce3",
      "metadata": {
        "id": "c36b5ce3",
        "outputId": "3b2c0515-abc3-45c1-bfff-15c8e9a52e3b"
      },
      "outputs": [
        {
          "name": "stdout",
          "output_type": "stream",
          "text": [
            "0 10\n",
            "auto\n",
            "10\n"
          ]
        }
      ],
      "source": [
        "s = input().split(' ')\n",
        "t_room = int(s[0])\n",
        "t_cond = int(s[1])\n",
        "regim = input()\n",
        "\n",
        "if regim == 'fan':\n",
        "    print(t_room)\n",
        "elif regim == 'freeze':\n",
        "    if t_cond < t_room:\n",
        "        print(t_cond)\n",
        "    else:\n",
        "        print(t_room)\n",
        "elif regim == 'heat':\n",
        "    if t_cond > t_room:\n",
        "        print(t_cond)\n",
        "    else:\n",
        "        print(t_room)\n",
        "elif regim == 'auto':\n",
        "    print(t_cond)"
      ]
    },
    {
      "cell_type": "code",
      "execution_count": null,
      "id": "cdaacaad",
      "metadata": {
        "id": "cdaacaad",
        "outputId": "48a1689e-5207-44be-b9f4-2d4394d8cb00"
      },
      "outputs": [
        {
          "name": "stdout",
          "output_type": "stream",
          "text": [
            "2\n",
            "4\n",
            "5\n",
            "YES\n"
          ]
        }
      ],
      "source": [
        "a = int(input())\n",
        "b = int(input())\n",
        "c = int(input())\n",
        "\n",
        "if a >= b + c or b >= a + c or c >= a + b:\n",
        "    print('NO')\n",
        "else:\n",
        "    print('YES')\n"
      ]
    },
    {
      "cell_type": "code",
      "execution_count": null,
      "id": "21a76e72",
      "metadata": {
        "id": "21a76e72",
        "outputId": "c30e2c69-61a6-4d4c-a7bd-6a307e508179"
      },
      "outputs": [
        {
          "name": "stdout",
          "output_type": "stream",
          "text": [
            "+78047952807\n",
            "+78047952807\n",
            "+76147514928\n",
            "88047952807\n",
            "YES\n",
            "NO\n",
            "YES\n"
          ]
        }
      ],
      "source": [
        "new = input()\n",
        "num1 = input()\n",
        "num2 = input()\n",
        "num3 = input()\n",
        "\n",
        "def processing(num):\n",
        "    s = ''\n",
        "    if num[0] == '+':\n",
        "        num = num[2:]\n",
        "    for c in num:\n",
        "        if c != '(' and c != ')' and c != '-':\n",
        "            s += c\n",
        "    num = s\n",
        "    if len(num) == 7:\n",
        "        num = '495' + num\n",
        "    if num[0] == '8' and len(num) > 7:\n",
        "        num = num[1:]\n",
        "    return num\n",
        "\n",
        "new = processing(new)\n",
        "num1 = processing(num1)\n",
        "num2 = processing(num2)\n",
        "num3 = processing(num3)\n",
        "\n",
        "for n in [num1, num2, num3]:\n",
        "    if new == n:\n",
        "        print('YES')\n",
        "    else:\n",
        "        print('NO')\n"
      ]
    },
    {
      "cell_type": "code",
      "execution_count": null,
      "id": "10b78942",
      "metadata": {
        "id": "10b78942",
        "outputId": "dff7b157-47bd-4b57-dfa5-418cfb0a69cd"
      },
      "outputs": [
        {
          "name": "stdout",
          "output_type": "stream",
          "text": [
            "1\n",
            "5\n",
            "2\n",
            "-1\n"
          ]
        }
      ],
      "source": [
        "a = int(input())\n",
        "b = int(input())\n",
        "c = int(input())\n",
        "\n",
        "if c < 0:\n",
        "    print('NO SOLUTION')\n",
        "else:\n",
        "    if a == 0:\n",
        "        if c ** 2 - b != 0:\n",
        "            print('NO SOLUTION')\n",
        "        else:\n",
        "            print('MANY SOLUTIONS')\n",
        "    else:\n",
        "        if (c ** 2 - b) % a != 0:\n",
        "            print('NO SOLUTION')\n",
        "        else:\n",
        "            x = (c ** 2 - b) / a\n",
        "            if a * x + b < 0:\n",
        "                print('NO SOLUTION')\n",
        "            else:\n",
        "                print(int(x))\n",
        "        "
      ]
    },
    {
      "cell_type": "code",
      "execution_count": null,
      "id": "46707a1f",
      "metadata": {
        "id": "46707a1f"
      },
      "outputs": [],
      "source": [
        "s = input().split(' ')\n",
        "k1 = int(s[0])\n",
        "m = int(s[1])\n",
        "k2 = int(s[2])\n",
        "p2 = int(s[3])\n",
        "n2 = int(s[4])\n",
        "\n",
        "if k2 % (m * (p2 - 1) + n2) == 0:\n",
        "    x = k2 // (m * (p2 - 1) + n2)\n",
        "else:\n",
        "    x = k2 // (m * (p2 - 1) + n2) + 1\n",
        "    \n",
        "print(x)\n",
        "\n",
        "p1 = (k1 // x) // m + 1\n",
        "\n",
        "advar = k1 - x * m\n",
        "\n",
        "if advar % x == 0:\n",
        "    n1 = advar // x\n",
        "else:\n",
        "    n1 = advar // x + 1\n",
        "print(p1, n1)\n"
      ]
    },
    {
      "cell_type": "code",
      "execution_count": null,
      "id": "df24106b",
      "metadata": {
        "id": "df24106b",
        "outputId": "25204476-5298-4146-b34d-fc6498e18c4c"
      },
      "outputs": [
        {
          "name": "stdout",
          "output_type": "stream",
          "text": [
            "10 2 2 10\n",
            "10 2 10 2\n",
            "10 4\n"
          ]
        }
      ],
      "source": [
        "s = input().split(' ')\n",
        "a1 = max(int(s[0]), int(s[1]))\n",
        "b1 = min(int(s[0]), int(s[1]))\n",
        "c1 = max(int(s[2]), int(s[3]))\n",
        "d1 = min(int(s[2]), int(s[3]))\n",
        "\n",
        "a = max(a1, c1)\n",
        "if a == a1:\n",
        "    b = b1\n",
        "    c = c1\n",
        "    d = d1\n",
        "else:\n",
        "    b = d1\n",
        "    c = a1\n",
        "    d = b1\n",
        "    \n",
        "if a >= b >= c >= d:\n",
        "    print(a + d, b)\n",
        "else:\n",
        "    print(a, b + d) \n",
        "    \n",
        "\n",
        "\n",
        "\n"
      ]
    },
    {
      "cell_type": "code",
      "execution_count": null,
      "id": "37db0ae8",
      "metadata": {
        "id": "37db0ae8",
        "outputId": "31fdfad2-bfc8-473b-be6a-7a8cdb562eea"
      },
      "outputs": [
        {
          "name": "stdout",
          "output_type": "stream",
          "text": [
            "20 13 2\n",
            "6\n"
          ]
        }
      ],
      "source": [
        "s = input().split(' ')\n",
        "n = int(s[0]) \n",
        "k = int(s[1])\n",
        "m = int(s[2])\n",
        "x = k % m # остаток от 1 заготовки\n",
        "p = k - x # целоче число, которое делится на количество деталей\n",
        "if p == 0:\n",
        "    print(0)\n",
        "else:\n",
        "    print(((n - x) // p) * (p // m)) # p // m - количество деталей из 1 заготовки"
      ]
    },
    {
      "cell_type": "code",
      "execution_count": null,
      "id": "1ac47459",
      "metadata": {
        "id": "1ac47459",
        "outputId": "038d2914-a7cc-4514-df5c-9bd0fd32050b"
      },
      "outputs": [
        {
          "name": "stdout",
          "output_type": "stream",
          "text": [
            "1\n",
            "2\n",
            "3\n",
            "1\n",
            "2\n",
            "YES\n"
          ]
        }
      ],
      "source": [
        "a = int(input())\n",
        "b = int(input())\n",
        "c = int(input())\n",
        "d = int(input())\n",
        "e = int(input())\n",
        "\n",
        "def castle_if(a, b, c, d, e):\n",
        "    if (a <= d and b <= e) or (b <= d and a <= e):\n",
        "        print('YES')\n",
        "        return\n",
        "    elif (a <= d and c <= e) or (c <= d and a <= e):\n",
        "        print('YES')\n",
        "        return\n",
        "    elif (c <= d and b <= e) or (b <= d and c <= e):\n",
        "        print('YES')\n",
        "        return\n",
        "    print('NO')\n",
        "    return\n",
        "\n",
        "castle_if(a, b, c, d, e)"
      ]
    },
    {
      "cell_type": "code",
      "execution_count": null,
      "id": "ba74b489",
      "metadata": {
        "id": "ba74b489",
        "outputId": "aacc32d9-0154-4f69-bf00-8bd7acc71ee2"
      },
      "outputs": [
        {
          "name": "stdout",
          "output_type": "stream",
          "text": [
            "1\n",
            "3\n",
            "3\n",
            "2\n",
            "5 7\n"
          ]
        }
      ],
      "source": [
        "a = int(input())\n",
        "b = int(input())\n",
        "n = int(input())\n",
        "m = int(input())\n",
        "\n",
        "def metro(a, b, n, m):\n",
        "    min1 = (n - 1) * a + n\n",
        "    min2 = (m - 1) * b + m\n",
        "    max1 = min1 + 2 * a\n",
        "    max2 = min2 + 2 * b\n",
        "    \n",
        "    minans = max(min1, min2)\n",
        "    maxans = min(max1, max2)\n",
        "    \n",
        "    if minans > maxans:\n",
        "        print(-1)\n",
        "    else:\n",
        "        print(minans, maxans)\n",
        "metro(a, b, n, m)"
      ]
    },
    {
      "cell_type": "code",
      "execution_count": null,
      "id": "250c6d1e",
      "metadata": {
        "id": "250c6d1e"
      },
      "outputs": [],
      "source": [
        "a = int(input())\n",
        "b = int(input())\n",
        "c = int(input())\n",
        "d = int(input())\n",
        "e = int(input())\n",
        "f = int(input())\n",
        "\n",
        "def f (a, b, c, d, e, f):\n",
        "    if b == 0 and d == 0 and :"
      ]
    },
    {
      "cell_type": "markdown",
      "id": "103b705f",
      "metadata": {
        "id": "103b705f"
      },
      "source": [
        "# Контест 2. Линейный поиск."
      ]
    },
    {
      "cell_type": "code",
      "execution_count": null,
      "id": "59eceb94",
      "metadata": {
        "id": "59eceb94",
        "outputId": "aefbae05-3fff-493f-c4da-8ef18214af09"
      },
      "outputs": [
        {
          "name": "stdout",
          "output_type": "stream",
          "text": [
            "1 7 9\n",
            "YES\n"
          ]
        }
      ],
      "source": [
        "s = input().split(\" \")\n",
        "s = list(map(int, s)) \n",
        "\n",
        "def is_monotonn(s):\n",
        "    j = s[0]\n",
        "    res = 'YES'\n",
        "    for i in s[1:]:\n",
        "        if i <= j:\n",
        "            res = 'NO'\n",
        "        j = i\n",
        "    return res\n",
        "\n",
        "print(is_monotonn(s))"
      ]
    },
    {
      "cell_type": "code",
      "execution_count": null,
      "id": "9263e5eb",
      "metadata": {
        "id": "9263e5eb",
        "outputId": "d5dc8d06-67ff-446a-ed62-a75c4471fde1"
      },
      "outputs": [
        {
          "name": "stdout",
          "output_type": "stream",
          "text": [
            "-530\n",
            "-530\n",
            "-530\n",
            "-2000000000\n"
          ]
        },
        {
          "data": {
            "text/plain": [
              "'CONSTANT'"
            ]
          },
          "execution_count": 32,
          "metadata": {},
          "output_type": "execute_result"
        }
      ],
      "source": [
        "def what():\n",
        "    prev = int(input())\n",
        "    new = int(input())\n",
        "    if prev == new:\n",
        "        regime = 'CONSTANT'\n",
        "    elif new > prev:\n",
        "        regime = 'ASCENDING'\n",
        "    else:\n",
        "        regime = 'DESCENDING'\n",
        "    while new != -2000000000:\n",
        "        if new == prev:\n",
        "            if regime == 'ASCENDING':\n",
        "                regime = 'WEAKLY ASCENDING'\n",
        "            elif regime == 'DESCENDING':\n",
        "                regime = 'WEAKLY DESCENDING'\n",
        "        elif new > prev:\n",
        "            if regime == 'CONSTANT':\n",
        "                regime = 'WEAKLY ASCENDING'\n",
        "            elif regime == 'DESCENDING' or regime == 'WEAKLY DESCENDING':\n",
        "                regime = 'RANDOM'\n",
        "        else:\n",
        "            if regime == 'CONSTANT':\n",
        "                regime = 'WEAKLY DESCENDING'\n",
        "            elif regime == 'ASCENDING' or regime == 'WEAKLY ASCENDING':\n",
        "                regime = 'RANDOM'\n",
        "        prev = new\n",
        "        new = int(input())\n",
        "    return regime\n",
        "\n",
        "print(what())"
      ]
    },
    {
      "cell_type": "code",
      "execution_count": null,
      "id": "c5afd8fa",
      "metadata": {
        "id": "c5afd8fa",
        "outputId": "3b3f8497-c4f5-4d70-84c3-9d509542be87"
      },
      "outputs": [
        {
          "name": "stdout",
          "output_type": "stream",
          "text": [
            "10\n",
            "1 2 3\n",
            "0\n",
            "1\n"
          ]
        }
      ],
      "source": [
        "n = int(input())\n",
        "s = list(map(int, input().split(' ')))\n",
        "x = int(input())\n",
        "\n",
        "def nearest_num(s, x):\n",
        "    ans = s[0]\n",
        "    dif = abs(s[0] - x)\n",
        "    for i in range(1, len(s)):\n",
        "        if abs(s[i] - x) < dif:\n",
        "            dif = abs(s[i] - x)\n",
        "            ans = s[i]\n",
        "    return ans\n",
        "\n",
        "print(nearest_num(s, x))"
      ]
    },
    {
      "cell_type": "code",
      "execution_count": null,
      "id": "4c4e91a9",
      "metadata": {
        "id": "4c4e91a9",
        "outputId": "880c9dac-3be2-4a24-dbb0-584109c0eecf"
      },
      "outputs": [
        {
          "name": "stdout",
          "output_type": "stream",
          "text": [
            "1 1\n",
            "0\n"
          ]
        }
      ],
      "source": [
        "l = list(map(int, input().split(' ')))\n",
        "\n",
        "def more_neigh(l):\n",
        "    cnt = 0\n",
        "    i = 1\n",
        "    while i < len(l) - 1:\n",
        "        if l[i] > l[i - 1] and l[i] > l[i + 1]:\n",
        "            cnt += 1\n",
        "            i += 2\n",
        "        else:\n",
        "            i += 1\n",
        "    return cnt\n",
        "\n",
        "print(more_neigh(l))"
      ]
    },
    {
      "cell_type": "code",
      "execution_count": null,
      "id": "48f62861",
      "metadata": {
        "id": "48f62861",
        "outputId": "aa30d990-d8cb-4f78-845c-403482846ec1"
      },
      "outputs": [
        {
          "name": "stdout",
          "output_type": "stream",
          "text": [
            "-4 3 -5 2 5\n",
            "-5 -4\n"
          ]
        }
      ],
      "source": [
        "s = input().split(' ')\n",
        "l = []\n",
        "for i in s:\n",
        "    if i != '':\n",
        "        l.append(int(i))\n",
        "\n",
        "def max_mul(l):\n",
        "    max1 = max(l[0], l[1])\n",
        "    max2 = min(l[0], l[1])\n",
        "    for i in range(2, len(l)):\n",
        "        if l[i] > max1:\n",
        "            max2 = max1\n",
        "            max1 = l[i]\n",
        "        elif l[i] > max2:\n",
        "            max2 = l[i]\n",
        "    return max1, max2\n",
        "\n",
        "m1, m2 = max_mul(l)\n",
        "m3, m4 = max_mul([-i for i in l])\n",
        "if m1 * m2 > m3 * m4:\n",
        "    print(min(m1, m2), max(m1, m2))\n",
        "else:\n",
        "    print(min(-m3, -m4), max(-m3, -m4))"
      ]
    },
    {
      "cell_type": "code",
      "execution_count": null,
      "id": "f8e606d7",
      "metadata": {
        "id": "f8e606d7",
        "outputId": "456858d8-a29c-4425-e2b8-d3390854e04d"
      },
      "outputs": [
        {
          "name": "stdout",
          "output_type": "stream",
          "text": [
            "1 2 3\n",
            "3 2 1\n"
          ]
        }
      ],
      "source": [
        "l = list(map(int, input().split(' ')))\n",
        "\n",
        "def mid(a, b, c):\n",
        "    if a <= b <= c or c <= b <= a:\n",
        "        return b\n",
        "    elif b <= a <= c or c <= a <= b:\n",
        "        return a\n",
        "    elif a <= c <= b or b <= c <= a:\n",
        "        return c\n",
        "\n",
        "def max_mul(l):\n",
        "    max1 = max(l[0], l[1], l[2])\n",
        "    max2 = mid(l[0], l[1], l[2])\n",
        "    max3 = min(l[0], l[1], l[2])\n",
        "    n1 = mid(l[0], l[1], l[2])\n",
        "    n2 = min(l[0], l[1], l[2])\n",
        "    for i in range(3, len(l)):\n",
        "        if l[i] > max1:\n",
        "            max3 = max2\n",
        "            max2 = max1\n",
        "            max1 = l[i]\n",
        "        elif l[i] > max2:\n",
        "            max3 = max2\n",
        "            max2 = l[i]\n",
        "        elif l[i] > max3:\n",
        "            max3 = l[i]\n",
        "        if l[i] < n2:\n",
        "            n1 = n2\n",
        "            n2 = l[i]\n",
        "        elif l[i] < n1:\n",
        "            n1 = l[i]\n",
        "    if n1 * n2 * max1 > max1 * max2 * max3:\n",
        "        return n1, n2, max1\n",
        "    else:\n",
        "        return max1, max2, max3\n",
        "    \n",
        "res = max_mul(l)\n",
        "print(res[0], res[1], res[2])"
      ]
    },
    {
      "cell_type": "code",
      "execution_count": null,
      "id": "e09a7758",
      "metadata": {
        "id": "e09a7758",
        "outputId": "60029203-ad24-4b14-bc12-3de0465a2b32"
      },
      "outputs": [
        {
          "data": {
            "text/plain": [
              "[1, 2, 3, 4, 5, 1, 2, 3, 4, 5]"
            ]
          },
          "execution_count": 10,
          "metadata": {},
          "output_type": "execute_result"
        }
      ],
      "source": [
        "l = [1, 2, 3, 4, 5]\n",
        "l + l"
      ]
    },
    {
      "cell_type": "code",
      "execution_count": null,
      "id": "81bb0091",
      "metadata": {
        "id": "81bb0091",
        "outputId": "7a86f0bb-bf19-428f-f8ec-94c4f7e84e31"
      },
      "outputs": [
        {
          "name": "stdout",
          "output_type": "stream",
          "text": [
            "91\n",
            "1 2 1 2 1 2 1 2 1 2 1 2 1 2 1 2 1 2 1 2 1 2 1 2 1 2 1 2 1 2 3 1 2 1 2 1 2 1 2 1 2 1 2 1 2 1 2 1 2 1 2 1 2 1 2 1 2 1 2 1 2 1 2 1 2 1 2 1 2 1 2 1 2 1 2 1 2 1 2 1 2 1 2 1 2 1 2 1 2 1 2\n",
            "32\n",
            "1 3 2 1 2 1 2 1 2 1 2 1 2 1 2 1 2 1 2 1 2 1 2 1 2 1 2 1 2 1 2 1\n"
          ]
        }
      ],
      "source": [
        "n = int(input())\n",
        "l = input().split(' ')\n",
        "seq = []\n",
        "for i in range(len(l)):\n",
        "    if l[i] != '':\n",
        "        seq.append(int(l[i]))\n",
        "\n",
        "def is_simmetric(seq):\n",
        "    for start in range(len(seq)):\n",
        "        i = start\n",
        "        j = len(seq) - 1\n",
        "        while i <= j and i < len(seq) and j >= 0 and seq[i] == seq[j]:\n",
        "            i += 1\n",
        "            j -= 1\n",
        "        if i > j:\n",
        "            ans = seq[:start][::-1]\n",
        "            return ans\n",
        "ans = is_simmetric(seq)\n",
        "print(len(ans))\n",
        "print(*ans)\n",
        "        "
      ]
    },
    {
      "cell_type": "markdown",
      "id": "9ce16584",
      "metadata": {
        "id": "9ce16584"
      },
      "source": [
        "# Множества"
      ]
    },
    {
      "cell_type": "code",
      "execution_count": null,
      "id": "4038664e",
      "metadata": {
        "id": "4038664e",
        "outputId": "192d9b59-0bfe-41f2-f72e-9dcb943b253a"
      },
      "outputs": [
        {
          "name": "stdout",
          "output_type": "stream",
          "text": [
            "1\n",
            "1\n"
          ]
        }
      ],
      "source": [
        "l = list(map(int, input().split(' ')))\n",
        "\n",
        "s = set(l)\n",
        "print(len(s))"
      ]
    },
    {
      "cell_type": "code",
      "execution_count": null,
      "id": "b44be147",
      "metadata": {
        "id": "b44be147",
        "outputId": "d86b85ed-be7f-45bb-ae0f-44f18e0bb75e"
      },
      "outputs": [
        {
          "name": "stdout",
          "output_type": "stream",
          "text": [
            "1 2 3\n",
            "2 3 4\n",
            "2 3\n"
          ]
        }
      ],
      "source": [
        "a = set(map(int, input().split(' ')))\n",
        "b = set(map(int, input().split(' ')))\n",
        "l = sorted(list(a & b))\n",
        "\n",
        "print(' '.join(str(i) for i in l))"
      ]
    },
    {
      "cell_type": "code",
      "execution_count": null,
      "id": "6741b046",
      "metadata": {
        "id": "6741b046",
        "outputId": "461e1261-63eb-4c44-ee61-1bdedb6979aa"
      },
      "outputs": [
        {
          "name": "stdout",
          "output_type": "stream",
          "text": [
            "0 0\n",
            "0\n",
            "\n",
            "0\n",
            "\n",
            "0\n",
            "\n"
          ]
        }
      ],
      "source": [
        "s = input().split(' ')\n",
        "n = int(s[0])\n",
        "m = int(s[1])\n",
        "\n",
        "a = set()\n",
        "for i in range(n):\n",
        "    a.add(int(input()))\n",
        "\n",
        "b = set()\n",
        "for i in range(m):\n",
        "    b.add(int(input()))\n",
        "    \n",
        "inter = a & b\n",
        "\n",
        "print(len(inter))\n",
        "print(' '.join(str(i) for i in sorted(list(inter))))\n",
        "a = a - inter\n",
        "print(len(a))\n",
        "print(' '.join(str(i) for i in sorted(list(a))))\n",
        "b = b - inter\n",
        "print(len(b))\n",
        "print(' '.join(str(i) for i in sorted(list(b))))"
      ]
    },
    {
      "cell_type": "code",
      "execution_count": null,
      "id": "3d37fe04",
      "metadata": {
        "id": "3d37fe04",
        "outputId": "46a59c1b-1dfb-44d9-b2dc-97e141e0ac4d"
      },
      "outputs": [
        {
          "name": "stdout",
          "output_type": "stream",
          "text": [
            "19\n"
          ]
        }
      ],
      "source": [
        "reader = open('input.txt', 'r')\n",
        "a = set(reader.read().split())\n",
        "a = a - set([' ' ,'\\n'])\n",
        "print(len(a))\n"
      ]
    },
    {
      "cell_type": "code",
      "execution_count": null,
      "id": "0bba11b4",
      "metadata": {
        "id": "0bba11b4",
        "outputId": "184ca4b6-511d-4057-9bf9-8bb59424d423"
      },
      "outputs": [
        {
          "name": "stdout",
          "output_type": "stream",
          "text": [
            "5 7 3\n",
            "123\n",
            "2\n"
          ]
        }
      ],
      "source": [
        "s = set(map(int, input().split()))\n",
        "l = set(int(i) for i in input())\n",
        "\n",
        "a = l - s\n",
        "print(len(a))"
      ]
    },
    {
      "cell_type": "code",
      "execution_count": null,
      "id": "26d6c395",
      "metadata": {
        "id": "26d6c395",
        "outputId": "1fc04a1c-2c7f-4fd9-92e1-91ba649cdb0e"
      },
      "outputs": [
        {
          "name": "stdout",
          "output_type": "stream",
          "text": [
            "A\n",
            "AB\n",
            "0\n"
          ]
        }
      ],
      "source": [
        "a = input()\n",
        "b = input()\n",
        "s = set()\n",
        "for i in range(len(b) - 1):\n",
        "    s.add(b[i] + b[i + 1])\n",
        "\n",
        "k = 0\n",
        "for j in range(len(a) - 1):\n",
        "    c = a[j] + a[j + 1]\n",
        "    if c in s:\n",
        "        k += 1\n",
        "print(k)"
      ]
    },
    {
      "cell_type": "code",
      "execution_count": null,
      "id": "65dbbd85",
      "metadata": {
        "id": "65dbbd85",
        "outputId": "364652bb-897b-49ef-f80e-376e2b059768"
      },
      "outputs": [
        {
          "name": "stdout",
          "output_type": "stream",
          "text": [
            "3\n",
            "0 2\n",
            "0 2\n",
            "1 1\n",
            "2\n"
          ]
        }
      ],
      "source": [
        "n = int(input())\n",
        "\n",
        "cnt = 0\n",
        "turtleplace = [0 for i in range(n)]\n",
        "for _ in range(n):\n",
        "    s = input().split()\n",
        "    a = int(s[0])\n",
        "    b = int(s[1])\n",
        "    \n",
        "    if a < 0 or b < 0:\n",
        "        cnt += 1\n",
        "    else:\n",
        "        if a + b != n - 1:\n",
        "            cnt += 1\n",
        "        else:\n",
        "            if turtleplace[b] == 1:\n",
        "                cnt += 1\n",
        "            else:\n",
        "                turtleplace[b] = 1\n",
        "        \n",
        "print(n - cnt)"
      ]
    },
    {
      "cell_type": "code",
      "execution_count": null,
      "id": "ee76db4d",
      "metadata": {
        "id": "ee76db4d"
      },
      "outputs": [],
      "source": [
        "n = int(input())\n",
        "Ox = set()\n",
        "for i in range(n):\n",
        "    s = input().split()\n",
        "    Ox.add(int(s[0]))\n",
        "print(len(Ox))"
      ]
    },
    {
      "cell_type": "code",
      "execution_count": null,
      "id": "691bddaa",
      "metadata": {
        "id": "691bddaa",
        "outputId": "164a1b0e-ae23-4656-8e9c-5d19bf4a0a9f"
      },
      "outputs": [
        {
          "name": "stdout",
          "output_type": "stream",
          "text": [
            "3\n",
            "3\n",
            "Russian\n",
            "English\n",
            "Japanese\n",
            "2\n",
            "Russian\n",
            "English\n",
            "1\n",
            "English\n",
            "1\n",
            "English\n",
            "3\n",
            "Russian\n",
            "English\n",
            "Japanese\n"
          ]
        }
      ],
      "source": [
        "n = int(input())\n",
        "\n",
        "def countlanguage(n):\n",
        "    d = {}\n",
        "    for _ in range(n):\n",
        "        m = int(input())\n",
        "        for i in range(m):\n",
        "            language = input()\n",
        "            if language not in d:\n",
        "                d[language] = 0\n",
        "            d[language] += 1\n",
        "    return d\n",
        "\n",
        "d = countlanguage(n)\n",
        "know_all = []\n",
        "\n",
        "for language in d.keys():\n",
        "    if d[language] == n:\n",
        "        know_all.append(language)\n",
        "print(len(know_all))\n",
        "for l in know_all:\n",
        "    print(l)\n",
        "\n",
        "print(len(list(d.keys())))\n",
        "for l in d.keys():\n",
        "    print(l)\n",
        "    "
      ]
    },
    {
      "cell_type": "code",
      "execution_count": null,
      "id": "c0cbe985",
      "metadata": {
        "id": "c0cbe985",
        "outputId": "4bf82af2-e29c-4660-bd21-33ce6477c2bb"
      },
      "outputs": [
        {
          "name": "stdout",
          "output_type": "stream",
          "text": [
            "3\n",
            "3\n",
            "R\n",
            "E\n",
            "J\n",
            "2\n",
            "R\n",
            "E\n",
            "1\n",
            "E\n",
            "{'E'}\n",
            "E\n",
            "{'R', 'J', 'E'}\n",
            "R\n",
            "J\n",
            "E\n"
          ]
        }
      ],
      "source": [
        "def countlanguage(n):\n",
        "    all_know = set()\n",
        "    smb_know = set()\n",
        "    \n",
        "    for i in range(n):\n",
        "        m = int(input())\n",
        "        languages = set([input() for j in range(m)])\n",
        "        smb_know |= languages\n",
        "        if i == 0:\n",
        "             all_know = languages\n",
        "        else:\n",
        "            all_know &= languages\n",
        "    return all_know, smb_know\n",
        "\n",
        "all_know, smb_know = countlanguage(int(input()))\n",
        "print(len(all_know))\n",
        "for l in all_know:\n",
        "    print(l)\n",
        "print(len(smb_know))\n",
        "for l in smb_know:\n",
        "    print(l)"
      ]
    },
    {
      "cell_type": "code",
      "execution_count": null,
      "id": "3113df32",
      "metadata": {
        "id": "3113df32"
      },
      "outputs": [],
      "source": [
        ""
      ]
    },
    {
      "cell_type": "markdown",
      "id": "5cca5f9c",
      "metadata": {
        "id": "5cca5f9c"
      },
      "source": [
        "# Словари"
      ]
    },
    {
      "cell_type": "code",
      "execution_count": null,
      "id": "4aa5b55a",
      "metadata": {
        "id": "4aa5b55a",
        "outputId": "b7b9cbd0-f377-414f-f991-e8dc481e6326"
      },
      "outputs": [
        {
          "name": "stdout",
          "output_type": "stream",
          "text": [
            "3\n",
            "Hello Hi\n",
            "Bye Goodbye\n",
            "List Array\n",
            "Goodbye\n",
            "Bye\n"
          ]
        }
      ],
      "source": [
        "def find_in_dict():\n",
        "    n = int(input())\n",
        "    d = {}\n",
        "    for _ in range(n):\n",
        "        s = input().split()\n",
        "        key = s[0]\n",
        "        val = s[1]\n",
        "        d[key] = val\n",
        "        \n",
        "    word = input()\n",
        "    if word in d.keys():\n",
        "        return d[word]\n",
        "    else:\n",
        "        for key in d.keys():\n",
        "            if d[key] == word:\n",
        "                return key\n",
        "        return key\n",
        "\n",
        "print(find_in_dict())"
      ]
    },
    {
      "cell_type": "code",
      "execution_count": null,
      "id": "fa023116",
      "metadata": {
        "id": "fa023116",
        "outputId": "ee73b041-f4c9-41fd-8649-e5aa6b660a05"
      },
      "outputs": [
        {
          "name": "stdout",
          "output_type": "stream",
          "text": [
            "0\n"
          ]
        }
      ],
      "source": [
        "def how_much_prev():\n",
        "    res = []\n",
        "    d = {}\n",
        "    with open('input.txt', 'r') as reader:\n",
        "        for word in reader.read().split():\n",
        "            num = d.get(word, 0)\n",
        "            res.append(str(num))\n",
        "            d[word] = num + 1\n",
        "    return \" \".join(res)\n",
        "\n",
        "print(how_much_prev())\n",
        "\n",
        "    "
      ]
    },
    {
      "cell_type": "code",
      "execution_count": null,
      "id": "c40d1663",
      "metadata": {
        "id": "c40d1663",
        "outputId": "b71c8bea-8d3c-4a72-f1d8-dc51ee13612d"
      },
      "outputs": [
        {
          "name": "stdout",
          "output_type": "stream",
          "text": [
            "a\n"
          ]
        }
      ],
      "source": [
        "def most_freq_word():\n",
        "    d = {}\n",
        "    with open('input.txt', 'r') as reader:\n",
        "        for word in reader.read().split():\n",
        "            d[word] = d.get(word, 0) + 1\n",
        "    max_val = 0\n",
        "    res = ''\n",
        "    for (key, val) in d.items():\n",
        "        if val > max_val:\n",
        "            max_val = val\n",
        "            res = key\n",
        "        elif val == max_val:\n",
        "            if key < res:\n",
        "                res = key\n",
        "    return res\n",
        "print(most_freq_word())"
      ]
    },
    {
      "cell_type": "code",
      "execution_count": null,
      "id": "b50ea0bc",
      "metadata": {
        "id": "b50ea0bc",
        "outputId": "fb6b9e7e-cb98-4b63-f69b-ec82bbfdd513"
      },
      "outputs": [
        {
          "name": "stdout",
          "output_type": "stream",
          "text": [
            "5\n",
            "1 50 3 4 3\n",
            "16\n",
            "1 2 3 4 5 1 3 3 4 5 5 5 5 5 4 5\n",
            "YES\n",
            "NO\n",
            "NO\n",
            "NO\n",
            "YES\n"
          ]
        }
      ],
      "source": [
        "def is_work():\n",
        "    n = int(input())\n",
        "    d = {}\n",
        "    s = input().split()\n",
        "    for i in range(len(s)):\n",
        "        d[i + 1] = int(s[i])\n",
        "    \n",
        "    k = int(input())\n",
        "    p = input().split()\n",
        "    for j in range(k):\n",
        "        d[int(p[j])] -= 1\n",
        "    \n",
        "    for key, val in d.items():\n",
        "        if val < 0:\n",
        "            print('YES')\n",
        "        else:\n",
        "            print('NO')\n",
        "is_work()"
      ]
    },
    {
      "cell_type": "code",
      "execution_count": null,
      "id": "aed28e6c",
      "metadata": {
        "id": "aed28e6c",
        "outputId": "4a73e8c8-2318-4e0c-e2a0-af9498c1ce0c"
      },
      "outputs": [
        {
          "name": "stdout",
          "output_type": "stream",
          "text": [
            "1\n",
            "2 2\n",
            "2\n"
          ]
        }
      ],
      "source": [
        "def max_high():\n",
        "    n = int(input())\n",
        "    d = {}\n",
        "    s = 0\n",
        "    for i in range(n):\n",
        "        l = input().split()\n",
        "        w = int(l[0])\n",
        "        h = int(l[1])\n",
        "        if d.get(w, 0) == 0:\n",
        "            d[w] = h\n",
        "            s += h   \n",
        "        else:\n",
        "            if d.get(w) < h:\n",
        "                s -= d.get(w)\n",
        "                s += h\n",
        "                d[w] = h\n",
        "    return(s)\n",
        "print(max_high())"
      ]
    },
    {
      "cell_type": "code",
      "execution_count": null,
      "id": "2b821324",
      "metadata": {
        "id": "2b821324",
        "outputId": "cdddbe5b-dfd8-44ac-fca8-99bd32634576"
      },
      "outputs": [
        {
          "name": "stdout",
          "output_type": "stream",
          "text": [
            "TKSNUU:\n",
            "FKXYPUGQ 49769497\n"
          ]
        }
      ],
      "source": [
        "def customs(filename):\n",
        "    d = {}\n",
        "    with open(filename, 'r') as f:\n",
        "        lines = f.readlines()\n",
        "        for line in lines:\n",
        "            line = line.split()\n",
        "            name = line[0]\n",
        "            product = line[1]\n",
        "            count = int(line[2])\n",
        "            if name not in d:\n",
        "                d[name] = {}\n",
        "            d[name].update([(product, d[name].get(product, 0) + count)])\n",
        "    for key in sorted(d):\n",
        "        print(key + ':')\n",
        "        for product in sorted(d[key]):\n",
        "            print(product, d[key][product])\n",
        "\n",
        "customs('input.txt')            "
      ]
    },
    {
      "cell_type": "code",
      "execution_count": null,
      "id": "8d8080e3",
      "metadata": {
        "id": "8d8080e3",
        "outputId": "cb6f09c6-a8c2-4846-ca18-67a30e647935"
      },
      "outputs": [
        {
          "data": {
            "text/plain": [
              "{'a': 1, 'b': 2, 'c': 4}"
            ]
          },
          "execution_count": 32,
          "metadata": {},
          "output_type": "execute_result"
        }
      ],
      "source": [
        "d = {'a': 1, 'b': 2}\n",
        "d.update([('c', 3)])\n",
        "d.update([('c', 4)])\n",
        "d"
      ]
    },
    {
      "cell_type": "code",
      "execution_count": null,
      "id": "65d39226",
      "metadata": {
        "id": "65d39226",
        "outputId": "3b66c434-dd23-422a-da39-f0807335a268"
      },
      "outputs": [
        {
          "ename": "NameError",
          "evalue": "name 'truncate' is not defined",
          "output_type": "error",
          "traceback": [
            "\u001b[1;31m---------------------------------------------------------------------------\u001b[0m",
            "\u001b[1;31mNameError\u001b[0m                                 Traceback (most recent call last)",
            "\u001b[1;32m<ipython-input-9-530a3c422c3d>\u001b[0m in \u001b[0;36m<module>\u001b[1;34m\u001b[0m\n\u001b[1;32m----> 1\u001b[1;33m \u001b[0mtruncate\u001b[0m\u001b[1;33m(\u001b[0m\u001b[1;36m0.5\u001b[0m\u001b[1;33m)\u001b[0m\u001b[1;33m\u001b[0m\u001b[1;33m\u001b[0m\u001b[0m\n\u001b[0m",
            "\u001b[1;31mNameError\u001b[0m: name 'truncate' is not defined"
          ]
        }
      ],
      "source": [
        "trancate(0.5)"
      ]
    },
    {
      "cell_type": "code",
      "execution_count": null,
      "id": "ffb6c38d",
      "metadata": {
        "id": "ffb6c38d",
        "outputId": "b1f69a8e-f13a-4cc1-82ac-804b550cb77c"
      },
      "outputs": [
        {
          "name": "stdout",
          "output_type": "stream",
          "text": [
            "7473458\n",
            "2344\n",
            "ERROR\n",
            "7548192.0\n",
            "2367.0\n",
            "ERROR\n",
            "8101307.0\n",
            "-61376.0\n",
            "-7388231\n",
            "1\n",
            "16121600.0\n",
            "-61376.0\n",
            "1.0\n",
            "32243200.0\n",
            "-61376.0\n",
            "2.0\n"
          ]
        }
      ],
      "source": [
        "def truncate(x):\n",
        "    return x // 1\n",
        "\n",
        "def bank_system(filename):\n",
        "    bank = {}\n",
        "    with open(filename, 'r') as f:\n",
        "        lines = f.readlines()\n",
        "        for line in lines:\n",
        "            line = line.split()\n",
        "            operation = line[0]\n",
        "            if operation == 'DEPOSIT':\n",
        "                name = line[1]\n",
        "                summa = int(line[2])\n",
        "                bank[name] = bank.get(name, 0) + summa\n",
        "            elif operation == 'WITHDRAW':\n",
        "                name = line[1]\n",
        "                summa = int(line[2])\n",
        "                bank[name] = bank.get(name, 0) - summa\n",
        "            elif operation == 'BALANCE':\n",
        "                name = line[1]\n",
        "                print(bank.get(name, 'ERROR'))\n",
        "            elif operation == 'TRANSFER':\n",
        "                name1 = line[1]\n",
        "                name2 = line[2]\n",
        "                summa = int(line[3])\n",
        "                bank[name1] = bank.get(name1, 0) - summa\n",
        "                bank[name2] = bank.get(name2, 0) + summa\n",
        "            elif operation == 'INCOME':\n",
        "                p = int(line[1])\n",
        "                for name in bank.keys():\n",
        "                    if bank[name] > 0:\n",
        "                        bank[name] = int(bank[name] + truncate(bank[name] * (p / 100)))\n",
        "\n",
        "bank_system('input.txt')                      "
      ]
    },
    {
      "cell_type": "code",
      "execution_count": null,
      "id": "cfb939aa",
      "metadata": {
        "id": "cfb939aa",
        "outputId": "7ee6f3ae-89be-4354-ceb7-f0946b2d3d4e"
      },
      "outputs": [
        {
          "data": {
            "text/plain": [
              "'jdowjijoijoisxjoijoijdsiowswd'"
            ]
          },
          "execution_count": 11,
          "metadata": {},
          "output_type": "execute_result"
        }
      ],
      "source": [
        "s = 'jdowjIjoiJOISXJOIJOIJDSiowswd'\n",
        "s.lower()"
      ]
    },
    {
      "cell_type": "code",
      "execution_count": null,
      "id": "0053805a",
      "metadata": {
        "id": "0053805a",
        "outputId": "fef2f3be-576a-4138-9c3c-59bdbbc24da9"
      },
      "outputs": [
        {
          "ename": "NameError",
          "evalue": "name 'printcount_mistakes' is not defined",
          "output_type": "error",
          "traceback": [
            "\u001b[1;31m---------------------------------------------------------------------------\u001b[0m",
            "\u001b[1;31mNameError\u001b[0m                                 Traceback (most recent call last)",
            "\u001b[1;32m<ipython-input-18-08103799f0fd>\u001b[0m in \u001b[0;36m<module>\u001b[1;34m\u001b[0m\n\u001b[0;32m     26\u001b[0m                 \u001b[0mcnt\u001b[0m \u001b[1;33m+=\u001b[0m \u001b[1;36m1\u001b[0m\u001b[1;33m\u001b[0m\u001b[1;33m\u001b[0m\u001b[0m\n\u001b[0;32m     27\u001b[0m \u001b[1;33m\u001b[0m\u001b[0m\n\u001b[1;32m---> 28\u001b[1;33m \u001b[0mprintcount_mistakes\u001b[0m\u001b[1;33m(\u001b[0m\u001b[1;33m)\u001b[0m\u001b[1;33m\u001b[0m\u001b[1;33m\u001b[0m\u001b[0m\n\u001b[0m",
            "\u001b[1;31mNameError\u001b[0m: name 'printcount_mistakes' is not defined"
          ]
        }
      ],
      "source": [
        "def create_dic():\n",
        "    n = int(input())\n",
        "    d = {}\n",
        "    for _ in range(n):\n",
        "        word = input()\n",
        "        d[word.lower()] = d.get(word.lower(), []) + [word]\n",
        "    return d\n",
        "\n",
        "def count_AZ(word):\n",
        "    cnt = 0\n",
        "    for symbol in word:\n",
        "        if symbol >= 'A' and symbol <= 'Z':\n",
        "            cnt += 1\n",
        "    return cnt\n",
        "\n",
        "def count_mistakes():\n",
        "    d = create_dic()\n",
        "    sent = input().split()\n",
        "    cnt = 0\n",
        "    for word in sent:\n",
        "        if word.lower() not in d.keys():\n",
        "            if count_AZ(word) != 1:\n",
        "                  cnt += 1\n",
        "        else:\n",
        "            if word not in d[word.lower()]:\n",
        "                cnt += 1\n",
        "    return cnt\n",
        "\n",
        "print(count_mistakes())         "
      ]
    },
    {
      "cell_type": "markdown",
      "id": "85ac445b",
      "metadata": {
        "id": "85ac445b"
      },
      "source": [
        "# Префиксные суммы и алгоритм двух указателей"
      ]
    },
    {
      "cell_type": "code",
      "execution_count": null,
      "id": "34bcbdb8",
      "metadata": {
        "id": "34bcbdb8",
        "outputId": "c4951b02-38a5-46db-ef90-01bdf0014ec1"
      },
      "outputs": [
        {
          "name": "stdout",
          "output_type": "stream",
          "text": [
            "5\n",
            "1 2 3 4 5\n",
            "5\n",
            "1 2 3 4 5\n",
            "1 1\n"
          ]
        }
      ],
      "source": [
        "def most_compatible(tshirts, trousers):\n",
        "    dif = abs(tshirts[0] - trousers[0])\n",
        "    res = [tshirts[0], trousers[0]]\n",
        "    first_sh = first_tr = 0\n",
        "    while dif != 0 and first_sh != len(tshirts) and first_tr != len(trousers):\n",
        "        if abs(tshirts[first_sh] - trousers[first_tr]) < dif:\n",
        "            dif = abs(tshirts[first_sh] - trousers[first_tr])\n",
        "            res[0] = tshirts[first_sh]\n",
        "            res[1] = trousers[first_tr]\n",
        "        if tshirts[first_sh] < trousers[first_tr]:\n",
        "            first_sh += 1\n",
        "        else:\n",
        "            first_tr += 1\n",
        "    return res\n",
        "\n",
        "n = int(input())\n",
        "tshirts = list(map(int, input().split()))\n",
        "m = int(input())\n",
        "trousers = list(map(int, input().split()))\n",
        "\n",
        "res = most_compatible(tshirts, trousers)\n",
        "res[0] = str(res[0])\n",
        "res[1] = str(res[1])\n",
        "print(' '.join(res))"
      ]
    },
    {
      "cell_type": "code",
      "execution_count": null,
      "id": "b2dd9214",
      "metadata": {
        "id": "b2dd9214",
        "outputId": "ec206d9f-e58b-4da1-b6b2-94fd4d4dbefd"
      },
      "outputs": [
        {
          "name": "stdout",
          "output_type": "stream",
          "text": [
            "5 10\n",
            "1 2 3 4 1\n",
            "2\n"
          ]
        }
      ],
      "source": [
        "def find_prefixsum(nums):\n",
        "    res = [0]\n",
        "    for n in nums:\n",
        "        res.append(res[-1] + n)\n",
        "    return res\n",
        "\n",
        "def countsum(nums, k):\n",
        "    prefixsum = find_prefixsum(nums)\n",
        "    cnt = 0\n",
        "    right = 1\n",
        "    for left in range(len(prefixsum) - 1):\n",
        "        while right < len(prefixsum) and (prefixsum[right] - prefixsum[left] <= k):\n",
        "            if prefixsum[right] - prefixsum[left] == k:\n",
        "                cnt += 1\n",
        "            right += 1\n",
        "    return cnt\n",
        "\n",
        "s = input().split()\n",
        "n = int(s[0])\n",
        "k = int(s[1])\n",
        "num_cars = list(map(int, input().split()))\n",
        "count = countsum(num_cars, k)\n",
        "print(count)"
      ]
    },
    {
      "cell_type": "code",
      "execution_count": null,
      "id": "9f024c01",
      "metadata": {
        "id": "9f024c01",
        "outputId": "103120c3-3a5b-4f04-aff5-40a04ed33a43"
      },
      "outputs": [
        {
          "name": "stdout",
          "output_type": "stream",
          "text": [
            "7\n",
            "2 1\n",
            "4 5\n",
            "7 4\n",
            "8 2\n",
            "9 6\n",
            "11 3\n",
            "15 3\n",
            "3\n",
            "2 6\n",
            "6 2\n",
            "3 3\n",
            "4\n",
            "6\n",
            "0\n"
          ]
        }
      ],
      "source": [
        "def find_prefixsum(nums):\n",
        "    res = [0]\n",
        "    prev = 0\n",
        "    for x, y in nums:\n",
        "        res.append(res[-1] + max(y - prev, 0))\n",
        "        prev = y\n",
        "    return res\n",
        "\n",
        "def high_trace(nums, traces):\n",
        "    prefixsum = find_prefixsum(nums)\n",
        "    reverse_prefixsum = find_prefixsum(nums[::-1])\n",
        "    for s, f in traces:\n",
        "        if f > s:\n",
        "            print(prefixsum[f] - prefixsum[s])\n",
        "        else:\n",
        "            print(reverse_prefixsum[-f] - reverse_prefixsum[-s])\n",
        "\n",
        "n = int(input())\n",
        "nums = []\n",
        "for _ in range(n):\n",
        "    s = input().split()\n",
        "    nums.append((int(s[0]), int(s[1])))\n",
        "# nums =[(11, 28), (15, 30), (25, 29), (29, 69), (75, 86), (79, 13), (81, 83), (89, 94), (93, 84), (97, 51) ] \n",
        "m = int(input())\n",
        "traces = []\n",
        "for _ in range(m):\n",
        "    s = input().split()\n",
        "    traces.append((int(s[0]), int(s[1])))\n",
        "high_trace(nums, traces)"
      ]
    },
    {
      "cell_type": "code",
      "execution_count": null,
      "id": "2a394b8e",
      "metadata": {
        "id": "2a394b8e",
        "outputId": "2a696ddb-eb9e-4c4a-9121-e1c8672043a4"
      },
      "outputs": [
        {
          "name": "stdout",
          "output_type": "stream",
          "text": [
            "4 2\n",
            "1 2 5 7\n",
            "4\n"
          ]
        }
      ],
      "source": [
        "def twopoints(nums, r):\n",
        "    cnt = 0\n",
        "    right = 1\n",
        "    for left in range(len(nums)):\n",
        "        while right < len(nums) and int(nums[right]) - int(nums[left]) <= r:\n",
        "            right += 1\n",
        "        cnt += len(nums) - right\n",
        "    return cnt\n",
        "\n",
        "s = input().split()\n",
        "n = int(s[0])\n",
        "r = int(s[1])\n",
        "nums = input().split()\n",
        "print(twopoints(nums, r))"
      ]
    },
    {
      "cell_type": "code",
      "execution_count": null,
      "id": "687b62d6",
      "metadata": {
        "id": "687b62d6",
        "outputId": "e6745aa6-28ab-4fea-c2fb-503d15fe540d"
      },
      "outputs": [
        {
          "name": "stdout",
          "output_type": "stream",
          "text": [
            "1 1\n",
            "1 1\n",
            "1 1\n"
          ]
        }
      ],
      "source": [
        "def find_all_kinds(nums, k):\n",
        "    mindist = len(nums)\n",
        "    res = [1, len(nums)]\n",
        "    d = {key: 0 for key in range(1, k + 1)}\n",
        "    right = 1\n",
        "    d[int(nums[0])] = 1\n",
        "    for left in range(len(nums)):\n",
        "        while right < len(nums) and 0 in d.values():\n",
        "            d[int(nums[right])] += 1\n",
        "            right += 1\n",
        "        if right - left < mindist and 0 not in d.values():\n",
        "            mindist = right - left\n",
        "            res[0] = left + 1\n",
        "            res[1] = right\n",
        "        d[int(nums[left])] -= 1\n",
        "    return res\n",
        "\n",
        "s = input().split()\n",
        "n = int(s[0])\n",
        "k = int(s[1])\n",
        "nums = input().split()\n",
        "res = find_all_kinds(nums, k)\n",
        "print(res[0], res[1])\n",
        "        \n",
        "    "
      ]
    },
    {
      "cell_type": "code",
      "execution_count": null,
      "id": "0cde1424",
      "metadata": {
        "id": "0cde1424"
      },
      "outputs": [],
      "source": [
        "n = int(input())\n",
        "a = list(map(int, input().split()))\n",
        "m = int(input())\n",
        "models = []\n",
        "summa = 0\n",
        "for i in range(m):\n",
        "    b, c = list(map(int, input().split()))\n",
        "    models.append((b, c))\n",
        "models = sorted(models)\n"
      ]
    },
    {
      "cell_type": "markdown",
      "id": "c2014320",
      "metadata": {
        "id": "c2014320"
      },
      "source": [
        "H"
      ]
    },
    {
      "cell_type": "code",
      "execution_count": null,
      "id": "8cdbc1b2",
      "metadata": {
        "scrolled": false,
        "id": "8cdbc1b2",
        "outputId": "2a400798-2a29-4e83-a7e8-26863984f1bc"
      },
      "outputs": [
        {
          "name": "stdout",
          "output_type": "stream",
          "text": [
            "10 10\n",
            "aaaaaaaaaa\n",
            "0 1\n"
          ]
        }
      ],
      "source": [
        "n, k = map(int, input().split())\n",
        "s = input()\n",
        "\n",
        "def max_substr(s, k, n):\n",
        "    d = {}\n",
        "    for c in s:\n",
        "        d[c] = 0\n",
        "    right = 0\n",
        "    i = 0\n",
        "    j = 0\n",
        "    max_len = 0\n",
        "    for left in range(len(s)):\n",
        "        while right < len(s) and k + 1 not in d.values():\n",
        "            d[s[right]] += 1\n",
        "            right += 1\n",
        "        if k + 1 in d.values():\n",
        "            if right - left - 1 > max_len:\n",
        "                i = left\n",
        "                j = right - 2\n",
        "                max_len = right - left - 1\n",
        "        d[s[left]] -= 1\n",
        "    return max_len, i + 1\n",
        "print(*max_substr(s, k, n))        "
      ]
    },
    {
      "cell_type": "markdown",
      "id": "835fa107",
      "metadata": {
        "id": "835fa107"
      },
      "source": [
        "# Бинарный поиск"
      ]
    },
    {
      "cell_type": "code",
      "execution_count": null,
      "id": "dca105b6",
      "metadata": {
        "id": "dca105b6",
        "outputId": "c253b6ab-d567-46eb-c5ae-bea16bee9cec"
      },
      "outputs": [
        {
          "name": "stdout",
          "output_type": "stream",
          "text": [
            "2 1\n",
            "1 2\n",
            "0\n",
            "NO\n"
          ]
        }
      ],
      "source": [
        "def binsearch(nums, x):\n",
        "    left = 0\n",
        "    right = len(nums) - 1\n",
        "    m = (left + right) // 2\n",
        "    while left < right:\n",
        "        if nums[m] >= x:\n",
        "            right = m\n",
        "        else:\n",
        "            left = m + 1\n",
        "        m = (left + right) // 2\n",
        "    if nums[left] != x:\n",
        "        print('NO')\n",
        "    else:\n",
        "        print('YES')\n",
        "        \n",
        "def print_res(nums, check):\n",
        "    for x in check:\n",
        "        binsearch(nums, x)\n",
        "\n",
        "n, k = list(map(int, input().split()))\n",
        "nums = list(map(int, input().split()))\n",
        "for_check = list(map(int, input().split()))\n",
        "print_res(nums, for_check)\n",
        "            "
      ]
    },
    {
      "cell_type": "code",
      "execution_count": null,
      "id": "9c6f65f9",
      "metadata": {
        "id": "9c6f65f9",
        "outputId": "e03adb9f-096c-4b77-a1b1-752ea0bfa845"
      },
      "outputs": [
        {
          "name": "stdout",
          "output_type": "stream",
          "text": [
            "10 10\n",
            "-5 1 1 3 5 5 8 12 13 16\n",
            "0 3 7 -17 23 11 0 11 15 7 \n",
            "1\n",
            "3\n",
            "8\n",
            "-5\n",
            "16\n",
            "12\n",
            "1\n",
            "12\n",
            "16\n",
            "8\n"
          ]
        }
      ],
      "source": [
        "def nearest_search(nums, x):\n",
        "    left = 0\n",
        "    right = len(nums) - 1\n",
        "    m = (left + right) // 2\n",
        "    while (right - left) > 1:\n",
        "        if nums[m] >= x:\n",
        "            right = m\n",
        "        else:\n",
        "            left = m\n",
        "        m = (left + right) // 2\n",
        "    if abs(nums[left] - x) <= abs(nums[right] - x):\n",
        "        ans = nums[left]\n",
        "    else:\n",
        "        ans = nums[right]\n",
        "    return ans\n",
        "\n",
        "n, k = list(map(int, input().split()))\n",
        "nums = list(map(int, input().split()))\n",
        "requests = list(map(int, input().split()))\n",
        "for x in requests:\n",
        "    print(nearest_search(nums, x))"
      ]
    },
    {
      "cell_type": "code",
      "execution_count": null,
      "id": "ed108741",
      "metadata": {
        "scrolled": true,
        "id": "ed108741",
        "outputId": "dc10b314-c30f-4eaa-8f86-d646ec6b9a87"
      },
      "outputs": [
        {
          "name": "stdout",
          "output_type": "stream",
          "text": [
            "1 1 4\n",
            "2\n"
          ]
        }
      ],
      "source": [
        "def binsearch(h, w, n):\n",
        "    l = 0\n",
        "    r = max(h, w) * n\n",
        "    m = (l + r) // 2\n",
        "    while l < r:\n",
        "        if (m // h) * (m // w) >= n:\n",
        "            r = m\n",
        "        else:\n",
        "            l = m + 1\n",
        "        m = (l + r) // 2\n",
        "    return m\n",
        "\n",
        "h, w, n = list(map(int, input().split()))\n",
        "print(binsearch(h, w, n))"
      ]
    },
    {
      "cell_type": "code",
      "execution_count": null,
      "id": "b5107cbb",
      "metadata": {
        "id": "b5107cbb",
        "outputId": "1e6ba6a2-8928-4e46-a460-2abd8a25ca3e"
      },
      "outputs": [
        {
          "name": "stdout",
          "output_type": "stream",
          "text": [
            "11 3 2 21 25\n",
            "2\n"
          ]
        }
      ],
      "source": [
        "def maxwidth(n, a, b, w, h):\n",
        "    l = 0\n",
        "    r = w\n",
        "    m = (l + r + 1) // 2\n",
        "    while l < r:\n",
        "        if ((w // (a + 2 * m)) * (h // (b + 2 * m))) >= n:\n",
        "            l = m\n",
        "        else:\n",
        "            r = m - 1\n",
        "        m = (l + r + 1) // 2\n",
        "    return m\n",
        "n, a, b, w, h = list(map(int, input().split()))\n",
        "print(max(maxwidth(n, a, b, w, h), maxwidth(n, b, a, w, h)))"
      ]
    },
    {
      "cell_type": "code",
      "execution_count": null,
      "id": "72351e4e",
      "metadata": {
        "scrolled": true,
        "id": "72351e4e",
        "outputId": "2b5a514b-e814-42ee-9918-b597cce6e689"
      },
      "outputs": [
        {
          "ename": "KeyboardInterrupt",
          "evalue": "Interrupted by user",
          "output_type": "error",
          "traceback": [
            "\u001b[1;31m---------------------------------------------------------------------------\u001b[0m",
            "\u001b[1;31mKeyboardInterrupt\u001b[0m                         Traceback (most recent call last)",
            "\u001b[1;32m<ipython-input-1-b465d4ee73a5>\u001b[0m in \u001b[0;36m<module>\u001b[1;34m\u001b[0m\n\u001b[0;32m     10\u001b[0m         \u001b[0mm\u001b[0m \u001b[1;33m=\u001b[0m \u001b[1;33m(\u001b[0m\u001b[0ml\u001b[0m \u001b[1;33m+\u001b[0m \u001b[0mr\u001b[0m\u001b[1;33m)\u001b[0m \u001b[1;33m//\u001b[0m \u001b[1;36m2\u001b[0m\u001b[1;33m\u001b[0m\u001b[1;33m\u001b[0m\u001b[0m\n\u001b[0;32m     11\u001b[0m     \u001b[1;32mreturn\u001b[0m \u001b[0mm\u001b[0m\u001b[1;33m\u001b[0m\u001b[1;33m\u001b[0m\u001b[0m\n\u001b[1;32m---> 12\u001b[1;33m \u001b[0ma\u001b[0m \u001b[1;33m=\u001b[0m \u001b[0mint\u001b[0m\u001b[1;33m(\u001b[0m\u001b[0minput\u001b[0m\u001b[1;33m(\u001b[0m\u001b[1;33m)\u001b[0m\u001b[1;33m)\u001b[0m\u001b[1;33m\u001b[0m\u001b[1;33m\u001b[0m\u001b[0m\n\u001b[0m\u001b[0;32m     13\u001b[0m \u001b[0mb\u001b[0m \u001b[1;33m=\u001b[0m \u001b[0mint\u001b[0m\u001b[1;33m(\u001b[0m\u001b[0minput\u001b[0m\u001b[1;33m(\u001b[0m\u001b[1;33m)\u001b[0m\u001b[1;33m)\u001b[0m\u001b[1;33m\u001b[0m\u001b[1;33m\u001b[0m\u001b[0m\n\u001b[0;32m     14\u001b[0m \u001b[0mc\u001b[0m \u001b[1;33m=\u001b[0m \u001b[0mint\u001b[0m\u001b[1;33m(\u001b[0m\u001b[0minput\u001b[0m\u001b[1;33m(\u001b[0m\u001b[1;33m)\u001b[0m\u001b[1;33m)\u001b[0m\u001b[1;33m\u001b[0m\u001b[1;33m\u001b[0m\u001b[0m\n",
            "\u001b[1;32mC:\\Anaconda\\lib\\site-packages\\ipykernel\\kernelbase.py\u001b[0m in \u001b[0;36mraw_input\u001b[1;34m(self, prompt)\u001b[0m\n\u001b[0;32m    858\u001b[0m                 \u001b[1;34m\"raw_input was called, but this frontend does not support input requests.\"\u001b[0m\u001b[1;33m\u001b[0m\u001b[1;33m\u001b[0m\u001b[0m\n\u001b[0;32m    859\u001b[0m             )\n\u001b[1;32m--> 860\u001b[1;33m         return self._input_request(str(prompt),\n\u001b[0m\u001b[0;32m    861\u001b[0m             \u001b[0mself\u001b[0m\u001b[1;33m.\u001b[0m\u001b[0m_parent_ident\u001b[0m\u001b[1;33m,\u001b[0m\u001b[1;33m\u001b[0m\u001b[1;33m\u001b[0m\u001b[0m\n\u001b[0;32m    862\u001b[0m             \u001b[0mself\u001b[0m\u001b[1;33m.\u001b[0m\u001b[0m_parent_header\u001b[0m\u001b[1;33m,\u001b[0m\u001b[1;33m\u001b[0m\u001b[1;33m\u001b[0m\u001b[0m\n",
            "\u001b[1;32mC:\\Anaconda\\lib\\site-packages\\ipykernel\\kernelbase.py\u001b[0m in \u001b[0;36m_input_request\u001b[1;34m(self, prompt, ident, parent, password)\u001b[0m\n\u001b[0;32m    902\u001b[0m             \u001b[1;32mexcept\u001b[0m \u001b[0mKeyboardInterrupt\u001b[0m\u001b[1;33m:\u001b[0m\u001b[1;33m\u001b[0m\u001b[1;33m\u001b[0m\u001b[0m\n\u001b[0;32m    903\u001b[0m                 \u001b[1;31m# re-raise KeyboardInterrupt, to truncate traceback\u001b[0m\u001b[1;33m\u001b[0m\u001b[1;33m\u001b[0m\u001b[1;33m\u001b[0m\u001b[0m\n\u001b[1;32m--> 904\u001b[1;33m                 \u001b[1;32mraise\u001b[0m \u001b[0mKeyboardInterrupt\u001b[0m\u001b[1;33m(\u001b[0m\u001b[1;34m\"Interrupted by user\"\u001b[0m\u001b[1;33m)\u001b[0m \u001b[1;32mfrom\u001b[0m \u001b[1;32mNone\u001b[0m\u001b[1;33m\u001b[0m\u001b[1;33m\u001b[0m\u001b[0m\n\u001b[0m\u001b[0;32m    905\u001b[0m             \u001b[1;32mexcept\u001b[0m \u001b[0mException\u001b[0m \u001b[1;32mas\u001b[0m \u001b[0me\u001b[0m\u001b[1;33m:\u001b[0m\u001b[1;33m\u001b[0m\u001b[1;33m\u001b[0m\u001b[0m\n\u001b[0;32m    906\u001b[0m                 \u001b[0mself\u001b[0m\u001b[1;33m.\u001b[0m\u001b[0mlog\u001b[0m\u001b[1;33m.\u001b[0m\u001b[0mwarning\u001b[0m\u001b[1;33m(\u001b[0m\u001b[1;34m\"Invalid Message:\"\u001b[0m\u001b[1;33m,\u001b[0m \u001b[0mexc_info\u001b[0m\u001b[1;33m=\u001b[0m\u001b[1;32mTrue\u001b[0m\u001b[1;33m)\u001b[0m\u001b[1;33m\u001b[0m\u001b[1;33m\u001b[0m\u001b[0m\n",
            "\u001b[1;31mKeyboardInterrupt\u001b[0m: Interrupted by user"
          ]
        }
      ],
      "source": [
        "def minmarks(a, b, c):\n",
        "    l = 0\n",
        "    r = 2 * (a + b + c)\n",
        "    m = (l + r) // 2\n",
        "    while l < r:\n",
        "        if (2 * a + 3 * b + 4 * c + 5 * m) >= 3.5 * (a + b + c + m):\n",
        "            r = m\n",
        "        else:\n",
        "            l = m + 1\n",
        "        m = (l + r) // 2\n",
        "    return m\n",
        "a = int(input())\n",
        "b = int(input())\n",
        "c = int(input())\n",
        "print(minmarks(a, b, c))"
      ]
    },
    {
      "cell_type": "markdown",
      "id": "fb16c202",
      "metadata": {
        "id": "fb16c202"
      },
      "source": [
        "# Сортировка событий"
      ]
    },
    {
      "cell_type": "code",
      "execution_count": null,
      "id": "ceafc904",
      "metadata": {
        "id": "ceafc904",
        "outputId": "d6318b26-a555-46bf-b32d-294e28abbe0b"
      },
      "outputs": [
        {
          "name": "stdout",
          "output_type": "stream",
          "text": [
            "10 3\n",
            "1 3\n",
            "2 4\n",
            "9 9\n",
            "[(1, 1), (2, 1), (3, -1), (4, -1), (9, 1), (9, -1)]\n",
            "7\n"
          ]
        }
      ],
      "source": [
        "def count_cheating(n, nums):\n",
        "    events = []\n",
        "    for start, end in nums:\n",
        "        events.append((start, 1))\n",
        "        events.append((end, -1))\n",
        "    events = sorted(events, key=lambda x: x[0])\n",
        "    print(events)\n",
        "    ans = 0\n",
        "    sum_teach = 0\n",
        "    for i in range(len(events)):\n",
        "        if sum_teach > 0:\n",
        "            if events[i][0] == events[i - 1][0]:\n",
        "                ans += 1\n",
        "            elif \n",
        "            ans += events[i][0] - events[i - 1][0]\n",
        "        if events[i][1] == 1:\n",
        "            sum_teach += 1\n",
        "        elif events[i][1] == -1:\n",
        "            sum_teach -= 1\n",
        "    return n - ans\n",
        "\n",
        "n, m = list(map(int, input().split()))\n",
        "nums = []\n",
        "for _ in range(m):\n",
        "    nums.append(tuple(map(int, input().split())))\n",
        "print(count_cheating(n, nums))"
      ]
    },
    {
      "cell_type": "code",
      "execution_count": null,
      "id": "b18a1100",
      "metadata": {
        "id": "b18a1100",
        "outputId": "b8d3ead1-c6c4-462e-bc19-7ad505b71af3"
      },
      "outputs": [
        {
          "name": "stdout",
          "output_type": "stream",
          "text": [
            "3 2\n",
            "0 5\n",
            "-3 2\n",
            "7 10\n",
            "1 6 -3 -4 11 0\n",
            "2 0 1 0 0 2\n"
          ]
        }
      ],
      "source": [
        "def make_events(nums):\n",
        "    events = []\n",
        "    for start, end in nums:\n",
        "        events.append((start, 1))\n",
        "        events.append((end, -1))\n",
        "    events = sorted(events, key=lambda x: x[0])\n",
        "    return events\n",
        "    \n",
        "def isinsegment(segmnets, x):\n",
        "    cnt = 0\n",
        "    for i in range(len(events)):\n",
        "        if x < events[i][0]:\n",
        "            return cnt\n",
        "        if events[i][1] == 1:\n",
        "            cnt += 1\n",
        "        elif events[i][1] == -1:\n",
        "            cnt -= 1\n",
        "    return cnt\n",
        "\n",
        "n, m = list(map(int, input().split()))\n",
        "segmnets = []\n",
        "for _ in range(n):\n",
        "    segmnets.append(tuple(map(int, input().split())))\n",
        "events = make_events(segmnets)\n",
        "    \n",
        "res = []\n",
        "nums = list(map(int, input().split()))\n",
        "for x in nums:\n",
        "    res.append(str(isinsegment(events, x)))\n",
        "print(' '.join(res))"
      ]
    },
    {
      "cell_type": "markdown",
      "id": "501a0412",
      "metadata": {
        "id": "501a0412"
      },
      "source": [
        "# Деревья"
      ]
    },
    {
      "cell_type": "code",
      "execution_count": null,
      "id": "798324c9",
      "metadata": {
        "id": "798324c9",
        "outputId": "c09c430b-c25b-4af2-b67e-ec9798a34493"
      },
      "outputs": [
        {
          "name": "stdout",
          "output_type": "stream",
          "text": [
            "4 2 4 6 2 4 1 6 2 4 3 1 6 2 4 5 3 1 6 2 4 7 5 3 1 6 2 4 0\n",
            "3\n"
          ]
        }
      ],
      "source": [
        "class Node:\n",
        "    def __init__(self, val):\n",
        "        self.val = val\n",
        "        self.L = None\n",
        "        self.R = None\n",
        "\n",
        "class Tree:\n",
        "    def __init__(self):\n",
        "        self.root = None\n",
        "        self.high = 0\n",
        "        \n",
        "    def add(self, val):\n",
        "        if self.root is None:\n",
        "            self.root = Node(val)\n",
        "            self.high += 1\n",
        "        else:\n",
        "            h = 1 + self._add(val, self.root)\n",
        "            self.high = max(h, self.high)\n",
        "    def _add(self, val, node):\n",
        "            if val < node.val:\n",
        "                if node.L is not None:\n",
        "                    return 1 + self._add(val, node.L)\n",
        "                else:\n",
        "                    node.L = Node(val)\n",
        "                    return 1\n",
        "            elif val > node.val:\n",
        "                if node.R is not None:\n",
        "                    return 1 + self._add(val, node.R)\n",
        "                else:\n",
        "                    node.R = Node(val)\n",
        "                    return 1\n",
        "            return 0\n",
        "    def gethigh(self):\n",
        "        return self.high\n",
        "    \n",
        "    \n",
        "nums = list(map(int, input().split()))\n",
        "t = Tree()\n",
        "for x in nums:\n",
        "    if x != 0:\n",
        "        t.add(x)\n",
        "    else:\n",
        "        break\n",
        "print(t.gethigh())"
      ]
    },
    {
      "cell_type": "code",
      "execution_count": null,
      "id": "d2965b67",
      "metadata": {
        "id": "d2965b67",
        "outputId": "30338d21-046a-4b1c-eb7f-4bf249c5838a"
      },
      "outputs": [
        {
          "name": "stdout",
          "output_type": "stream",
          "text": [
            "4\n"
          ]
        }
      ],
      "source": [
        "t = Tree()\n",
        "add = [7, 3, 2, 1, 9, 5, 4, 6, 8, 0]\n",
        "for x in add:\n",
        "    if x != 0:\n",
        "        t.add(x)\n",
        "print(t.gethigh())"
      ]
    },
    {
      "cell_type": "code",
      "execution_count": null,
      "id": "5f183240",
      "metadata": {
        "id": "5f183240",
        "outputId": "1267fde9-ab26-4934-d063-676ea9311f81"
      },
      "outputs": [
        {
          "name": "stdout",
          "output_type": "stream",
          "text": [
            "1\n"
          ]
        }
      ],
      "source": [
        "t = Tree()\n",
        "add = [7, 0]\n",
        "for x in add:\n",
        "    if x != 0:\n",
        "        t.add(x)\n",
        "print(t.gethigh())"
      ]
    },
    {
      "cell_type": "code",
      "execution_count": null,
      "id": "184f3b05",
      "metadata": {
        "id": "184f3b05",
        "outputId": "01bc9c1c-5344-4c3e-a7c9-91db1180d9b7"
      },
      "outputs": [
        {
          "name": "stdout",
          "output_type": "stream",
          "text": [
            "2\n"
          ]
        }
      ],
      "source": [
        "t = Tree()\n",
        "add = [7,1, 0]\n",
        "for x in add:\n",
        "    if x != 0:\n",
        "        t.add(x)\n",
        "print(t.gethigh())"
      ]
    },
    {
      "cell_type": "code",
      "execution_count": null,
      "id": "028858fb",
      "metadata": {
        "id": "028858fb",
        "outputId": "9189d78b-e71e-4a58-f2dd-93e0e09d48f4"
      },
      "outputs": [
        {
          "name": "stdout",
          "output_type": "stream",
          "text": [
            "2\n"
          ]
        }
      ],
      "source": [
        "t = Tree()\n",
        "add = [7,1, 9, 0]\n",
        "for x in add:\n",
        "    if x != 0:\n",
        "        t.add(x)\n",
        "print(t.gethigh())"
      ]
    },
    {
      "cell_type": "code",
      "execution_count": null,
      "id": "d5af55fb",
      "metadata": {
        "id": "d5af55fb",
        "outputId": "033032ac-bd8a-494d-a6a0-fdbc2e3e3622"
      },
      "outputs": [
        {
          "name": "stdout",
          "output_type": "stream",
          "text": [
            "3\n"
          ]
        }
      ],
      "source": [
        "t = Tree()\n",
        "add = [7,1, 9, 8, 0]\n",
        "for x in add:\n",
        "    if x != 0:\n",
        "        t.add(x)\n",
        "print(t.gethigh())"
      ]
    },
    {
      "cell_type": "code",
      "execution_count": null,
      "id": "36c4b6e6",
      "metadata": {
        "id": "36c4b6e6",
        "outputId": "7ead0606-83c8-4ed0-f831-dfe2c9878f9f"
      },
      "outputs": [
        {
          "name": "stdout",
          "output_type": "stream",
          "text": [
            "0\n"
          ]
        }
      ],
      "source": [
        "t = Tree()\n",
        "print(t.gethigh())"
      ]
    },
    {
      "cell_type": "code",
      "execution_count": null,
      "id": "7e5512a5",
      "metadata": {
        "id": "7e5512a5",
        "outputId": "0bcdd894-20c3-4652-cfc9-b8493415631b"
      },
      "outputs": [
        {
          "name": "stdout",
          "output_type": "stream",
          "text": [
            "4 2 4 6 2 4 1 6 2 4 3 1 6 2 4 5 3 1 6 2 4 7 5 3 1 6 2 4 0\n",
            "1 2 2 3 3 3 3\n"
          ]
        }
      ],
      "source": [
        "class Node:\n",
        "    def __init__(self, val):\n",
        "        self.val = val\n",
        "        self.L = None\n",
        "        self.R = None\n",
        "\n",
        "class Tree:\n",
        "    def __init__(self):\n",
        "        self.root = None\n",
        "        self.high = 0\n",
        "        \n",
        "    def add(self, val):\n",
        "        if self.root is None:\n",
        "            self.root = Node(val)\n",
        "            self.high += 1\n",
        "            return 1\n",
        "        else:\n",
        "            try:\n",
        "                h = 1 + self._add(val, self.root)\n",
        "                self.high = max(h, self.high)\n",
        "                return h\n",
        "            except:\n",
        "                return None\n",
        "    \n",
        "    def _add(self, val, node):\n",
        "            if val < node.val:\n",
        "                if node.L is not None:\n",
        "                    return 1 + self._add(val, node.L)\n",
        "                else:\n",
        "                    node.L = Node(val)\n",
        "                    return 1\n",
        "            elif val > node.val:\n",
        "                if node.R is not None:\n",
        "                    return 1 + self._add(val, node.R)\n",
        "                else:\n",
        "                    node.R = Node(val)\n",
        "                    return 1\n",
        "            return None\n",
        "    def gethigh(self):\n",
        "        return self.high\n",
        "    \n",
        "    \n",
        "nums = list(map(int, input().split()))\n",
        "t = Tree()\n",
        "res = []\n",
        "for x in nums:\n",
        "    if x != 0:\n",
        "        n = t.add(x)\n",
        "        if n is not None:\n",
        "            res.append(str(n))\n",
        "    else:\n",
        "        break\n",
        "print(\" \".join(res))"
      ]
    },
    {
      "cell_type": "code",
      "execution_count": null,
      "id": "d9789e79",
      "metadata": {
        "id": "d9789e79",
        "outputId": "787611ed-68dd-4974-da93-cca6fb9d2b75"
      },
      "outputs": [
        {
          "name": "stdout",
          "output_type": "stream",
          "text": [
            "1\n",
            "2\n",
            "3\n",
            "4\n",
            "2\n",
            "3\n",
            "4\n",
            "4\n",
            "3\n"
          ]
        }
      ],
      "source": [
        "t = Tree()\n",
        "add = [7, 3, 2, 1, 9, 5, 4, 6, 8, 0]\n",
        "for x in add:\n",
        "    if x != 0:\n",
        "        print(t.add(x))\n",
        "# print(t.gethigh())"
      ]
    },
    {
      "cell_type": "code",
      "execution_count": null,
      "id": "47b3c99f",
      "metadata": {
        "id": "47b3c99f",
        "outputId": "7d29d2d7-25b1-4b28-e36e-8afee9cc26f3"
      },
      "outputs": [
        {
          "name": "stdout",
          "output_type": "stream",
          "text": [
            "1\n"
          ]
        }
      ],
      "source": [
        "t = Tree()\n",
        "add = [7, 0]\n",
        "for x in add:\n",
        "    if x != 0:\n",
        "        print(t.add(x))"
      ]
    },
    {
      "cell_type": "code",
      "execution_count": null,
      "id": "4f04de5a",
      "metadata": {
        "id": "4f04de5a"
      },
      "outputs": [],
      "source": [
        "t = Tree()\n",
        "add = [0]\n",
        "for x in add:\n",
        "    if x != 0:\n",
        "        print(t.add(x))"
      ]
    },
    {
      "cell_type": "code",
      "execution_count": null,
      "id": "846fca23",
      "metadata": {
        "id": "846fca23",
        "outputId": "eee07172-bd5f-4ed5-a770-dea57642ca97"
      },
      "outputs": [
        {
          "name": "stdout",
          "output_type": "stream",
          "text": [
            "1\n",
            "1\n"
          ]
        }
      ],
      "source": [
        "t = Tree()\n",
        "add = [7, 7, 0]\n",
        "for x in add:\n",
        "    if x != 0:\n",
        "        print(t.add(x))"
      ]
    },
    {
      "cell_type": "code",
      "execution_count": null,
      "id": "ad09e388",
      "metadata": {
        "id": "ad09e388",
        "outputId": "8d57845b-269b-494d-fef9-737d6d7349b6"
      },
      "outputs": [
        {
          "name": "stdout",
          "output_type": "stream",
          "text": [
            "1\n",
            "2\n",
            "1\n",
            "3\n",
            "2\n",
            "3\n"
          ]
        }
      ],
      "source": [
        "t = Tree()\n",
        "add = [7, 3, 7, 2, 3, 2, 0]\n",
        "for x in add:\n",
        "    if x != 0:\n",
        "        print(t.add(x))"
      ]
    },
    {
      "cell_type": "code",
      "execution_count": null,
      "id": "e74b4280",
      "metadata": {
        "id": "e74b4280",
        "outputId": "5c608dcd-ebea-41b9-90d5-d7fdcd9198c6"
      },
      "outputs": [
        {
          "name": "stdout",
          "output_type": "stream",
          "text": [
            "3 1 2 0\n",
            "2\n"
          ]
        }
      ],
      "source": [
        "class Node:\n",
        "    def __init__(self, val):\n",
        "        self.val = val\n",
        "        self.L = None\n",
        "        self.R = None\n",
        "\n",
        "class Tree:\n",
        "    def __init__(self):\n",
        "        self.root = None\n",
        "        self.high = 0\n",
        "        \n",
        "    def add(self, val):\n",
        "        if self.root is None:\n",
        "            self.root = Node(val)\n",
        "            self.high += 1\n",
        "            return 1\n",
        "        else:\n",
        "            h = 1 + self._add(val, self.root)\n",
        "            self.high = max(h, self.high)\n",
        "            return h\n",
        "    \n",
        "    def _add(self, val, node):\n",
        "            if val < node.val:\n",
        "                if node.L is not None:\n",
        "                    return 1 + self._add(val, node.L)\n",
        "                else:\n",
        "                    node.L = Node(val)\n",
        "                    return 1\n",
        "            elif val > node.val:\n",
        "                if node.R is not None:\n",
        "                    return 1 + self._add(val, node.R)\n",
        "                else:\n",
        "                    node.R = Node(val)\n",
        "                    return 1\n",
        "            return 0\n",
        "    \n",
        "    def find_second_max(self):\n",
        "        point = self.root\n",
        "        while point.R is not None:\n",
        "            prev = point\n",
        "            point = point.R\n",
        "        if point.L is not None:\n",
        "            return self.find_max(point.L)\n",
        "        else:\n",
        "            return prev.val\n",
        "        \n",
        "    def find_max(self, node):\n",
        "        point = node\n",
        "        while point.R is not None:\n",
        "            point = point.R\n",
        "        return point.val\n",
        "    \n",
        "    \n",
        "    def gethigh(self):\n",
        "        return self.high\n",
        "    \n",
        "nums = list(map(int, input().split()))\n",
        "t = Tree()\n",
        "for x in nums:\n",
        "    if x != 0:\n",
        "        t.add(x)\n",
        "    else:\n",
        "        break\n",
        "print(t.find_second_max())"
      ]
    },
    {
      "cell_type": "code",
      "execution_count": null,
      "id": "74303927",
      "metadata": {
        "id": "74303927",
        "outputId": "2fb57709-0009-4e83-da72-715e34934a9c"
      },
      "outputs": [
        {
          "data": {
            "text/plain": [
              "3"
            ]
          },
          "execution_count": 41,
          "metadata": {},
          "output_type": "execute_result"
        }
      ],
      "source": [
        "t = Tree()\n",
        "add = [7, 3, 2, 1, 9, 5, 4, 6, 0]\n",
        "for x in add:\n",
        "    if x != 0:\n",
        "        t.add(x)\n",
        "        \n",
        "t.find_second_max()"
      ]
    },
    {
      "cell_type": "code",
      "execution_count": null,
      "id": "c5c5bba4",
      "metadata": {
        "id": "c5c5bba4",
        "outputId": "613e4ede-427b-44a9-8fdb-7cdfac026ddc"
      },
      "outputs": [
        {
          "data": {
            "text/plain": [
              "3"
            ]
          },
          "execution_count": 34,
          "metadata": {},
          "output_type": "execute_result"
        }
      ],
      "source": [
        "t = Tree()\n",
        "add = [7, 3, 0]\n",
        "for x in add:\n",
        "    if x != 0:\n",
        "        t.add(x)\n",
        "        \n",
        "t.find_second_max()"
      ]
    },
    {
      "cell_type": "code",
      "execution_count": null,
      "id": "b8cfc88d",
      "metadata": {
        "id": "b8cfc88d",
        "outputId": "29ca31bf-be44-444c-a941-2027744269ff"
      },
      "outputs": [
        {
          "data": {
            "text/plain": [
              "3"
            ]
          },
          "execution_count": 35,
          "metadata": {},
          "output_type": "execute_result"
        }
      ],
      "source": [
        "t = Tree()\n",
        "add = [7, 3, 2, 0]\n",
        "for x in add:\n",
        "    if x != 0:\n",
        "        t.add(x)\n",
        "        \n",
        "t.find_second_max()"
      ]
    },
    {
      "cell_type": "code",
      "execution_count": null,
      "id": "ade7c171",
      "metadata": {
        "id": "ade7c171",
        "outputId": "26431721-95d7-4f47-9c28-e4ad0c8da117"
      },
      "outputs": [
        {
          "data": {
            "text/plain": [
              "7"
            ]
          },
          "execution_count": 36,
          "metadata": {},
          "output_type": "execute_result"
        }
      ],
      "source": [
        "t = Tree()\n",
        "add = [7, 3, 2, 9, 0]\n",
        "for x in add:\n",
        "    if x != 0:\n",
        "        t.add(x)\n",
        "        \n",
        "t.find_second_max()"
      ]
    },
    {
      "cell_type": "code",
      "execution_count": null,
      "id": "412cfaea",
      "metadata": {
        "id": "412cfaea"
      },
      "outputs": [],
      "source": [
        "class Node:\n",
        "    def __init__(self, val):\n",
        "        self.val = val\n",
        "        self.L = None\n",
        "        self.R = None\n",
        "\n",
        "class Tree:\n",
        "    def __init__(self):\n",
        "        self.root = None\n",
        "        self.high = 0\n",
        "        \n",
        "    def add(self, val):\n",
        "        if self.root is None:\n",
        "            self.root = Node(val)\n",
        "            self.high += 1\n",
        "            return 1\n",
        "        else:\n",
        "            h = 1 + self._add(val, self.root)\n",
        "            self.high = max(h, self.high)\n",
        "            return h\n",
        "    \n",
        "    def _add(self, val, node):\n",
        "            if val < node.val:\n",
        "                if node.L is not None:\n",
        "                    return 1 + self._add(val, node.L)\n",
        "                else:\n",
        "                    node.L = Node(val)\n",
        "                    return 1\n",
        "            elif val > node.val:\n",
        "                if node.R is not None:\n",
        "                    return 1 + self._add(val, node.R)\n",
        "                else:\n",
        "                    node.R = Node(val)\n",
        "                    return 1\n",
        "            return 0\n",
        "    \n",
        "    def find_second_max(self):\n",
        "        point = self.root\n",
        "        while point.R is not None:\n",
        "            prev = point\n",
        "            point = point.R\n",
        "        if point.L is not None:\n",
        "            return point.L.val\n",
        "        else:\n",
        "            return prev.val\n",
        "        \n",
        "    \n",
        "    \n",
        "    def gethigh(self):\n",
        "        return self.high\n",
        "    \n",
        "    def print_tree(self):\n",
        "        if self.root is not None:\n",
        "            self._print_tree(self.root)\n",
        "            \n",
        "    def _print_tree(self, node):\n",
        "        if node.L is not None:\n",
        "            self._print_tree(node.L)\n",
        "        print(node.val)\n",
        "        if node.R is not None:\n",
        "            self._print_tree(node.R)\n",
        "    \n",
        "nums = list(map(int, input().split()))\n",
        "t = Tree()\n",
        "for x in nums:\n",
        "    if x != 0:\n",
        "        t.add(x)\n",
        "    else:\n",
        "        break\n",
        "t.print_tree()"
      ]
    },
    {
      "cell_type": "code",
      "execution_count": null,
      "id": "f2548787",
      "metadata": {
        "id": "f2548787",
        "outputId": "b9420764-ccd6-428a-dbf0-636fc73a7a50"
      },
      "outputs": [
        {
          "name": "stdout",
          "output_type": "stream",
          "text": [
            "1\n",
            "2\n",
            "3\n",
            "4\n",
            "5\n",
            "6\n",
            "7\n",
            "9\n"
          ]
        }
      ],
      "source": [
        "t = Tree()\n",
        "add = [7, 3, 2, 1, 9, 5, 4, 6, 0]\n",
        "for x in add:\n",
        "    if x != 0:\n",
        "        t.add(x)\n",
        "        \n",
        "t.print_tree()"
      ]
    },
    {
      "cell_type": "code",
      "execution_count": null,
      "id": "8c47c574",
      "metadata": {
        "id": "8c47c574",
        "outputId": "c170e90d-241f-4fc7-9b40-62c70adcd8a9"
      },
      "outputs": [
        {
          "name": "stdout",
          "output_type": "stream",
          "text": [
            "7\n"
          ]
        }
      ],
      "source": [
        "t = Tree()\n",
        "add = [7,0]\n",
        "for x in add:\n",
        "    if x != 0:\n",
        "        t.add(x)\n",
        "        \n",
        "t.print_tree()"
      ]
    },
    {
      "cell_type": "code",
      "execution_count": null,
      "id": "cd039ba6",
      "metadata": {
        "id": "cd039ba6",
        "outputId": "b3de3dd9-2ab3-46e4-af5c-1d6438fe17db"
      },
      "outputs": [
        {
          "name": "stdout",
          "output_type": "stream",
          "text": [
            "3\n",
            "7\n"
          ]
        }
      ],
      "source": [
        "t = Tree()\n",
        "add = [7, 3, 0]\n",
        "for x in add:\n",
        "    if x != 0:\n",
        "        t.add(x)\n",
        "        \n",
        "t.print_tree()"
      ]
    },
    {
      "cell_type": "code",
      "execution_count": null,
      "id": "4eb7f4be",
      "metadata": {
        "id": "4eb7f4be"
      },
      "outputs": [],
      "source": [
        "class Node:\n",
        "    def __init__(self, val):\n",
        "        self.val = val\n",
        "        self.L = None\n",
        "        self.R = None\n",
        "\n",
        "class Tree:\n",
        "    def __init__(self):\n",
        "        self.root = None\n",
        "        self.high = 0\n",
        "        \n",
        "    def add(self, val):\n",
        "        if self.root is None:\n",
        "            self.root = Node(val)\n",
        "            self.high += 1\n",
        "            return 1\n",
        "        else:\n",
        "            h = 1 + self._add(val, self.root)\n",
        "            self.high = max(h, self.high)\n",
        "            return h\n",
        "    \n",
        "    def _add(self, val, node):\n",
        "            if val < node.val:\n",
        "                if node.L is not None:\n",
        "                    return 1 + self._add(val, node.L)\n",
        "                else:\n",
        "                    node.L = Node(val)\n",
        "                    return 1\n",
        "            elif val > node.val:\n",
        "                if node.R is not None:\n",
        "                    return 1 + self._add(val, node.R)\n",
        "                else:\n",
        "                    node.R = Node(val)\n",
        "                    return 1\n",
        "            return 0\n",
        "    \n",
        "    def find_second_max(self):\n",
        "        point = self.root\n",
        "        while point.R is not None:\n",
        "            prev = point\n",
        "            point = point.R\n",
        "        if point.L is not None:\n",
        "            return point.L.val\n",
        "        else:\n",
        "            return prev.val\n",
        "        \n",
        "    \n",
        "    \n",
        "    def gethigh(self):\n",
        "        return self.high\n",
        "    \n",
        "    def print_tree(self):\n",
        "        if self.root is not None:\n",
        "            self._print_tree(self.root)\n",
        "            \n",
        "    def _print_tree(self, node):\n",
        "        if node.L is not None:\n",
        "            self._print_tree(node.L)\n",
        "        print(node.val)\n",
        "        if node.R is not None:\n",
        "            self._print_tree(node.R)\n",
        "    \n",
        "    def print_leaves(self):\n",
        "        if self.root is not None:\n",
        "            self._print_leaves(self.root)\n",
        "    def _print_leaves(self, node):\n",
        "        if node.L is None and node.R is None:\n",
        "            print(node.val)\n",
        "        else:\n",
        "            if node.L is not None:\n",
        "                self._print_leaves(node.L)\n",
        "            if node.R is not None:\n",
        "                self._print_leaves(node.R)\n",
        "    \n",
        "nums = list(map(int, input().split()))\n",
        "t = Tree()\n",
        "for x in nums:\n",
        "    if x != 0:\n",
        "        t.add(x)\n",
        "    else:\n",
        "        break\n",
        "t.print_leaves()"
      ]
    },
    {
      "cell_type": "code",
      "execution_count": null,
      "id": "c1c3fff0",
      "metadata": {
        "id": "c1c3fff0",
        "outputId": "6822acb4-7361-4517-8329-5cd721f5cbf0"
      },
      "outputs": [
        {
          "name": "stdout",
          "output_type": "stream",
          "text": [
            "2\n",
            "9\n"
          ]
        }
      ],
      "source": [
        "t = Tree()\n",
        "add = [7, 3,2, 8,9, 0]\n",
        "for x in add:\n",
        "    if x != 0:\n",
        "        t.add(x)\n",
        "        \n",
        "t.print_leaves()"
      ]
    },
    {
      "cell_type": "code",
      "execution_count": null,
      "id": "ffe4e635",
      "metadata": {
        "id": "ffe4e635"
      },
      "outputs": [],
      "source": [
        "class Node:\n",
        "    def __init__(self, val):\n",
        "        self.val = val\n",
        "        self.L = None\n",
        "        self.R = None\n",
        "\n",
        "class Tree:\n",
        "    def __init__(self):\n",
        "        self.root = None\n",
        "        self.high = 0\n",
        "        \n",
        "    def add(self, val):\n",
        "        if self.root is None:\n",
        "            self.root = Node(val)\n",
        "            self.high += 1\n",
        "            return 1\n",
        "        else:\n",
        "            h = 1 + self._add(val, self.root)\n",
        "            self.high = max(h, self.high)\n",
        "            return h\n",
        "    \n",
        "    def _add(self, val, node):\n",
        "            if val < node.val:\n",
        "                if node.L is not None:\n",
        "                    return 1 + self._add(val, node.L)\n",
        "                else:\n",
        "                    node.L = Node(val)\n",
        "                    return 1\n",
        "            elif val > node.val:\n",
        "                if node.R is not None:\n",
        "                    return 1 + self._add(val, node.R)\n",
        "                else:\n",
        "                    node.R = Node(val)\n",
        "                    return 1\n",
        "            return 0\n",
        "    \n",
        "    def find_second_max(self):\n",
        "        point = self.root\n",
        "        while point.R is not None:\n",
        "            prev = point\n",
        "            point = point.R\n",
        "        if point.L is not None:\n",
        "            return point.L.val\n",
        "        else:\n",
        "            return prev.val\n",
        "        \n",
        "    \n",
        "    \n",
        "    def gethigh(self):\n",
        "        return self.high\n",
        "    \n",
        "    def print_tree(self):\n",
        "        if self.root is not None:\n",
        "            self._print_tree(self.root)\n",
        "            \n",
        "    def _print_tree(self, node):\n",
        "        if node.L is not None:\n",
        "            self._print_tree(node.L)\n",
        "        print(node.val)\n",
        "        if node.R is not None:\n",
        "            self._print_tree(node.R)\n",
        "    \n",
        "    def print_leaves(self):\n",
        "        if self.root is not None:\n",
        "            self._print_leaves(self.root)\n",
        "    def _print_leaves(self, node):\n",
        "        if node.L is None and node.R is None:\n",
        "            print(node.val)\n",
        "        else:\n",
        "            if node.L is not None:\n",
        "                self._print_leaves(node.L)\n",
        "            if node.R is not None:\n",
        "                self._print_leaves(node.R)\n",
        "    \n",
        "    def print_2child(self):\n",
        "        if self.root is not None:\n",
        "            self._print_2child(self.root)\n",
        "    def _print_2child(self, node):\n",
        "        if node.L is not None:\n",
        "            self._print_2child(node.L)\n",
        "        if node.L is not None and node.R is not None:\n",
        "            print(node.val)\n",
        "        if node.R is not None:\n",
        "            self._print_2child(node.R)\n",
        "    \n",
        "nums = list(map(int, input().split()))\n",
        "t = Tree()\n",
        "for x in nums:\n",
        "    if x != 0:\n",
        "        t.add(x)\n",
        "    else:\n",
        "        break\n",
        "t.print_2child()"
      ]
    },
    {
      "cell_type": "code",
      "execution_count": null,
      "id": "5782b025",
      "metadata": {
        "id": "5782b025",
        "outputId": "a3304e7f-4816-48de-f086-69c2a0fb966d"
      },
      "outputs": [
        {
          "name": "stdout",
          "output_type": "stream",
          "text": [
            "3\n",
            "5\n",
            "7\n",
            "9\n"
          ]
        }
      ],
      "source": [
        "t = Tree()\n",
        "add = [7, 3, 2, 1, 9, 5, 4, 6, 8, 10, 0]\n",
        "for x in add:\n",
        "    if x != 0:\n",
        "        t.add(x)\n",
        "        \n",
        "t.print_2child()"
      ]
    },
    {
      "cell_type": "code",
      "execution_count": null,
      "id": "4fe660b8",
      "metadata": {
        "id": "4fe660b8"
      },
      "outputs": [],
      "source": [
        "class Node:\n",
        "    def __init__(self, val):\n",
        "        self.val = val\n",
        "        self.L = None\n",
        "        self.R = None\n",
        "\n",
        "class Tree:\n",
        "    def __init__(self):\n",
        "        self.root = None\n",
        "        self.high = 0\n",
        "        \n",
        "    def add(self, val):\n",
        "        if self.root is None:\n",
        "            self.root = Node(val)\n",
        "            self.high += 1\n",
        "            return 1\n",
        "        else:\n",
        "            h = 1 + self._add(val, self.root)\n",
        "            self.high = max(h, self.high)\n",
        "            return h \n",
        "    def _add(self, val, node):\n",
        "            if val < node.val:\n",
        "                if node.L is not None:\n",
        "                    return 1 + self._add(val, node.L)\n",
        "                else:\n",
        "                    node.L = Node(val)\n",
        "                    return 1\n",
        "            elif val > node.val:\n",
        "                if node.R is not None:\n",
        "                    return 1 + self._add(val, node.R)\n",
        "                else:\n",
        "                    node.R = Node(val)\n",
        "                    return 1\n",
        "            return 0\n",
        "    \n",
        "    def find_second_max(self):\n",
        "        point = self.root\n",
        "        while point.R is not None:\n",
        "            prev = point\n",
        "            point = point.R\n",
        "        if point.L is not None:\n",
        "            return point.L.val\n",
        "        else:\n",
        "            return prev.val\n",
        "    \n",
        "    def gethigh(self):\n",
        "        return self.high\n",
        "    \n",
        "    def print_tree(self):\n",
        "        if self.root is not None:\n",
        "            self._print_tree(self.root)         \n",
        "    def _print_tree(self, node):\n",
        "        if node.L is not None:\n",
        "            self._print_tree(node.L)\n",
        "        print(node.val)\n",
        "        if node.R is not None:\n",
        "            self._print_tree(node.R)\n",
        "    \n",
        "    def print_leaves(self):\n",
        "        if self.root is not None:\n",
        "            self._print_leaves(self.root)\n",
        "    def _print_leaves(self, node):\n",
        "        if node.L is None and node.R is None:\n",
        "            print(node.val)\n",
        "        else:\n",
        "            if node.L is not None:\n",
        "                self._print_leaves(node.L)\n",
        "            if node.R is not None:\n",
        "                self._print_leaves(node.R)\n",
        "    \n",
        "    def print_2child(self):\n",
        "        if self.root is not None:\n",
        "            self._print_2child(self.root)\n",
        "    def _print_2child(self, node):\n",
        "        if node.L is not None:\n",
        "            self._print_2child(node.L)\n",
        "        if node.L is not None and node.R is not None:\n",
        "            print(node.val)\n",
        "        if node.R is not None:\n",
        "            self._print_2child(node.R)\n",
        "            \n",
        "    def print_1child(self):\n",
        "        if self.root is not None:\n",
        "            self._print_1child(self.root)\n",
        "    def _print_1child(self, node):\n",
        "        if node.L is not None:\n",
        "            self._print_1child(node.L)\n",
        "        if (node.L is None and node.R is not None) or (node.L is not None and node.R is None):\n",
        "            print(node.val)\n",
        "        if node.R is not None:\n",
        "            self._print_1child(node.R)\n",
        "    \n",
        "nums = list(map(int, input().split()))\n",
        "t = Tree()\n",
        "for x in nums:\n",
        "    if x != 0:\n",
        "        t.add(x)\n",
        "    else:\n",
        "        break\n",
        "t.print_1child()"
      ]
    },
    {
      "cell_type": "code",
      "execution_count": null,
      "id": "eea9b553",
      "metadata": {
        "id": "eea9b553"
      },
      "outputs": [],
      "source": [
        ""
      ]
    },
    {
      "cell_type": "code",
      "execution_count": null,
      "id": "60e026ea",
      "metadata": {
        "id": "60e026ea"
      },
      "outputs": [],
      "source": [
        ""
      ]
    },
    {
      "cell_type": "code",
      "execution_count": null,
      "id": "02338654",
      "metadata": {
        "id": "02338654"
      },
      "outputs": [],
      "source": [
        ""
      ]
    },
    {
      "cell_type": "code",
      "execution_count": null,
      "id": "20c31a52",
      "metadata": {
        "id": "20c31a52"
      },
      "outputs": [],
      "source": [
        "def RLE(string):\n",
        "    i = 1\n",
        "    cnt = 1\n",
        "    res = []\n",
        "    while i < len(string):\n",
        "        if string[i] == string[i - 1]:\n",
        "            cnt += 1\n",
        "        else:\n",
        "            res.append(string[i - 1])\n",
        "            if cnt > 1:\n",
        "                res.append(str(cnt))\n",
        "            cnt = 1\n",
        "        i += 1\n",
        "    res.append(string[i - 1])\n",
        "    if cnt > 1:\n",
        "        res.append(str(cnt))\n",
        "    return \"\".join(res)\n",
        "\n",
        "# RLE('')"
      ]
    },
    {
      "cell_type": "code",
      "execution_count": null,
      "id": "9fc768e0",
      "metadata": {
        "id": "9fc768e0",
        "outputId": "b371e40f-46be-41aa-9a6a-7271f9956526"
      },
      "outputs": [
        {
          "data": {
            "text/plain": [
              "'ab2c3'"
            ]
          },
          "execution_count": 11,
          "metadata": {},
          "output_type": "execute_result"
        }
      ],
      "source": [
        "RLE('abbccc')"
      ]
    },
    {
      "cell_type": "code",
      "execution_count": null,
      "id": "e53142f9",
      "metadata": {
        "id": "e53142f9",
        "outputId": "26fa7bed-365c-4eb9-8ab4-6bb2830b9f1f"
      },
      "outputs": [
        {
          "data": {
            "text/plain": [
              "'c3'"
            ]
          },
          "execution_count": 12,
          "metadata": {},
          "output_type": "execute_result"
        }
      ],
      "source": [
        "RLE('ccc')"
      ]
    },
    {
      "cell_type": "code",
      "execution_count": null,
      "id": "5b80c2b4",
      "metadata": {
        "id": "5b80c2b4",
        "outputId": "fcaeb851-9993-481e-df9a-5761d4740e2a"
      },
      "outputs": [
        {
          "data": {
            "text/plain": [
              "'c2'"
            ]
          },
          "execution_count": 13,
          "metadata": {},
          "output_type": "execute_result"
        }
      ],
      "source": [
        "RLE('cc')"
      ]
    },
    {
      "cell_type": "code",
      "execution_count": null,
      "id": "5d465c22",
      "metadata": {
        "id": "5d465c22",
        "outputId": "18be017e-ee4e-44a1-f9da-588efad50f49"
      },
      "outputs": [
        {
          "data": {
            "text/plain": [
              "'c'"
            ]
          },
          "execution_count": 14,
          "metadata": {},
          "output_type": "execute_result"
        }
      ],
      "source": [
        "RLE('c')"
      ]
    },
    {
      "cell_type": "code",
      "execution_count": null,
      "id": "686fc364",
      "metadata": {
        "id": "686fc364",
        "outputId": "9ca1fdab-5f4b-412a-def6-1565c8897ee0"
      },
      "outputs": [
        {
          "data": {
            "text/plain": [
              "'ab'"
            ]
          },
          "execution_count": 15,
          "metadata": {},
          "output_type": "execute_result"
        }
      ],
      "source": [
        "RLE('ab')"
      ]
    },
    {
      "cell_type": "code",
      "execution_count": null,
      "id": "6cc5f55b",
      "metadata": {
        "id": "6cc5f55b",
        "outputId": "5e7f6e46-22ae-44f0-9b6f-6cc1c5d1c051"
      },
      "outputs": [
        {
          "data": {
            "text/plain": [
              "'abc'"
            ]
          },
          "execution_count": 16,
          "metadata": {},
          "output_type": "execute_result"
        }
      ],
      "source": [
        "RLE('abc')"
      ]
    },
    {
      "cell_type": "code",
      "execution_count": null,
      "id": "7ff721c9",
      "metadata": {
        "id": "7ff721c9",
        "outputId": "5053d103-de36-4a10-aff8-be789953be55"
      },
      "outputs": [
        {
          "data": {
            "text/plain": [
              "'a2b2c2'"
            ]
          },
          "execution_count": 17,
          "metadata": {},
          "output_type": "execute_result"
        }
      ],
      "source": [
        "RLE('aabbcc')"
      ]
    },
    {
      "cell_type": "code",
      "execution_count": null,
      "id": "a932623e",
      "metadata": {
        "id": "a932623e",
        "outputId": "75a37825-0236-4a59-abb2-9bdb2ca27caa"
      },
      "outputs": [
        {
          "data": {
            "text/plain": [
              "True"
            ]
          },
          "execution_count": 19,
          "metadata": {},
          "output_type": "execute_result"
        }
      ],
      "source": [
        "a = set([1, 2, 3])\n",
        "b = set([1, 2, 3])\n",
        "a == b"
      ]
    }
  ],
  "metadata": {
    "kernelspec": {
      "display_name": "Python 3",
      "language": "python",
      "name": "python3"
    },
    "language_info": {
      "codemirror_mode": {
        "name": "ipython",
        "version": 3
      },
      "file_extension": ".py",
      "mimetype": "text/x-python",
      "name": "python",
      "nbconvert_exporter": "python",
      "pygments_lexer": "ipython3",
      "version": "3.8.8"
    },
    "colab": {
      "name": "yandex_train.ipynb",
      "provenance": []
    }
  },
  "nbformat": 4,
  "nbformat_minor": 5
}