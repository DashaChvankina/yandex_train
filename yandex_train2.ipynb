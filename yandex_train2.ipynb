{
  "nbformat": 4,
  "nbformat_minor": 0,
  "metadata": {
    "colab": {
      "name": "yandex_train2.ipynb",
      "provenance": []
    },
    "kernelspec": {
      "name": "python3",
      "display_name": "Python 3"
    },
    "language_info": {
      "name": "python"
    }
  },
  "cells": [
    {
      "cell_type": "markdown",
      "metadata": {
        "id": "240d3d12"
      },
      "source": [
        "# Тренировки по алгоритмам 2.0\n"
      ]
    },
    {
      "cell_type": "markdown",
      "metadata": {
        "id": "52c007d0"
      },
      "source": [
        "# Контест 2"
      ]
    },
    {
      "cell_type": "code",
      "execution_count": null,
      "metadata": {
        "id": "3100f96f",
        "outputId": "eb3013c5-4dd5-4a03-e6cb-ab341110432f"
      },
      "outputs": [
        {
          "name": "stdout",
          "output_type": "stream",
          "text": [
            "4\n",
            "4\n",
            "3\n",
            "3\n",
            "3\n",
            "0\n",
            "2\n"
          ]
        }
      ],
      "source": [
        "def countmax():\n",
        "    max_seq = 0\n",
        "    cnt = 0\n",
        "    x = int(input())\n",
        "    while x != 0:\n",
        "        if x > max_seq:\n",
        "            max_seq = x\n",
        "            cnt = 1\n",
        "        elif x == max_seq:\n",
        "            cnt += 1\n",
        "        x = int(input())\n",
        "    print(cnt)\n",
        "countmax()"
      ]
    },
    {
      "cell_type": "code",
      "execution_count": null,
      "metadata": {
        "id": "46355d97",
        "outputId": "07e1bedb-bf8e-4f3c-aab6-845709e93409"
      },
      "outputs": [
        {
          "name": "stdout",
          "output_type": "stream",
          "text": [
            "2 0 1 1 0 1 0 2 1 2\n",
            "3\n"
          ]
        }
      ],
      "source": [
        "def max_dist(buildings):\n",
        "    last_shop = 0\n",
        "    max_dist = 0\n",
        "    for i in range(len(buildings)):\n",
        "        if buildings[i] == 1:\n",
        "            j = i - 1\n",
        "            k = i + 1\n",
        "            while j >= 0 and k < len(buildings):\n",
        "                if buildings[j] == 2:\n",
        "                    if i - j > max_dist:\n",
        "                        max_dist = i - j\n",
        "                    break\n",
        "                elif buildings[k] == 2:\n",
        "                    if k - i > max_dist:\n",
        "                        max_dist = k - i\n",
        "                    break\n",
        "                j -= 1\n",
        "                k += 1\n",
        "            if j < 0:\n",
        "                while buildings[k] != 2:\n",
        "                    k += 1\n",
        "                if k - i > max_dist:\n",
        "                    max_dist = k - i\n",
        "            elif k == len(buildings):\n",
        "                while buildings[j] != 2:\n",
        "                    j -= 1\n",
        "                if i - j > max_dist:\n",
        "                    max_dist = i - j\n",
        "    return max_dist  \n",
        "buildings = list(map(int, input().split()))\n",
        "print(max_dist(buildings))\n"
      ]
    },
    {
      "cell_type": "code",
      "execution_count": null,
      "metadata": {
        "id": "8273bdcf",
        "outputId": "824571e8-6805-40c8-88bd-6875c8befe78"
      },
      "outputs": [
        {
          "name": "stdout",
          "output_type": "stream",
          "text": [
            "2 0 1\n",
            "2\n"
          ]
        }
      ],
      "source": [
        "buildings = list(map(int, input().split()))\n",
        "print(max_dist(buildings))"
      ]
    },
    {
      "cell_type": "code",
      "execution_count": null,
      "metadata": {
        "id": "4ff5e351",
        "outputId": "42c9afec-4a50-4763-85cc-eb50c12d2f59"
      },
      "outputs": [
        {
          "name": "stdout",
          "output_type": "stream",
          "text": [
            "1 0 2\n",
            "2\n"
          ]
        }
      ],
      "source": [
        "buildings = list(map(int, input().split()))\n",
        "print(max_dist(buildings))"
      ]
    },
    {
      "cell_type": "code",
      "execution_count": null,
      "metadata": {
        "id": "d645ab54",
        "outputId": "4a0b3a68-5b7f-4063-b24e-d62152724071"
      },
      "outputs": [
        {
          "ename": "KeyboardInterrupt",
          "evalue": "Interrupted by user",
          "output_type": "error",
          "traceback": [
            "\u001b[1;31m---------------------------------------------------------------------------\u001b[0m",
            "\u001b[1;31mKeyboardInterrupt\u001b[0m                         Traceback (most recent call last)",
            "\u001b[1;32m<ipython-input-61-c40d7580f3ac>\u001b[0m in \u001b[0;36m<module>\u001b[1;34m\u001b[0m\n\u001b[1;32m----> 1\u001b[1;33m \u001b[0mbuildings\u001b[0m \u001b[1;33m=\u001b[0m \u001b[0mlist\u001b[0m\u001b[1;33m(\u001b[0m\u001b[0mmap\u001b[0m\u001b[1;33m(\u001b[0m\u001b[0mint\u001b[0m\u001b[1;33m,\u001b[0m \u001b[0minput\u001b[0m\u001b[1;33m(\u001b[0m\u001b[1;33m)\u001b[0m\u001b[1;33m.\u001b[0m\u001b[0msplit\u001b[0m\u001b[1;33m(\u001b[0m\u001b[1;33m)\u001b[0m\u001b[1;33m)\u001b[0m\u001b[1;33m)\u001b[0m\u001b[1;33m\u001b[0m\u001b[1;33m\u001b[0m\u001b[0m\n\u001b[0m\u001b[0;32m      2\u001b[0m \u001b[0mprint\u001b[0m\u001b[1;33m(\u001b[0m\u001b[0mmax_dist\u001b[0m\u001b[1;33m(\u001b[0m\u001b[0mbuildings\u001b[0m\u001b[1;33m)\u001b[0m\u001b[1;33m)\u001b[0m\u001b[1;33m\u001b[0m\u001b[1;33m\u001b[0m\u001b[0m\n",
            "\u001b[1;32mC:\\Anaconda\\lib\\site-packages\\ipykernel\\kernelbase.py\u001b[0m in \u001b[0;36mraw_input\u001b[1;34m(self, prompt)\u001b[0m\n\u001b[0;32m    858\u001b[0m                 \u001b[1;34m\"raw_input was called, but this frontend does not support input requests.\"\u001b[0m\u001b[1;33m\u001b[0m\u001b[1;33m\u001b[0m\u001b[0m\n\u001b[0;32m    859\u001b[0m             )\n\u001b[1;32m--> 860\u001b[1;33m         return self._input_request(str(prompt),\n\u001b[0m\u001b[0;32m    861\u001b[0m             \u001b[0mself\u001b[0m\u001b[1;33m.\u001b[0m\u001b[0m_parent_ident\u001b[0m\u001b[1;33m,\u001b[0m\u001b[1;33m\u001b[0m\u001b[1;33m\u001b[0m\u001b[0m\n\u001b[0;32m    862\u001b[0m             \u001b[0mself\u001b[0m\u001b[1;33m.\u001b[0m\u001b[0m_parent_header\u001b[0m\u001b[1;33m,\u001b[0m\u001b[1;33m\u001b[0m\u001b[1;33m\u001b[0m\u001b[0m\n",
            "\u001b[1;32mC:\\Anaconda\\lib\\site-packages\\ipykernel\\kernelbase.py\u001b[0m in \u001b[0;36m_input_request\u001b[1;34m(self, prompt, ident, parent, password)\u001b[0m\n\u001b[0;32m    902\u001b[0m             \u001b[1;32mexcept\u001b[0m \u001b[0mKeyboardInterrupt\u001b[0m\u001b[1;33m:\u001b[0m\u001b[1;33m\u001b[0m\u001b[1;33m\u001b[0m\u001b[0m\n\u001b[0;32m    903\u001b[0m                 \u001b[1;31m# re-raise KeyboardInterrupt, to truncate traceback\u001b[0m\u001b[1;33m\u001b[0m\u001b[1;33m\u001b[0m\u001b[1;33m\u001b[0m\u001b[0m\n\u001b[1;32m--> 904\u001b[1;33m                 \u001b[1;32mraise\u001b[0m \u001b[0mKeyboardInterrupt\u001b[0m\u001b[1;33m(\u001b[0m\u001b[1;34m\"Interrupted by user\"\u001b[0m\u001b[1;33m)\u001b[0m \u001b[1;32mfrom\u001b[0m \u001b[1;32mNone\u001b[0m\u001b[1;33m\u001b[0m\u001b[1;33m\u001b[0m\u001b[0m\n\u001b[0m\u001b[0;32m    905\u001b[0m             \u001b[1;32mexcept\u001b[0m \u001b[0mException\u001b[0m \u001b[1;32mas\u001b[0m \u001b[0me\u001b[0m\u001b[1;33m:\u001b[0m\u001b[1;33m\u001b[0m\u001b[1;33m\u001b[0m\u001b[0m\n\u001b[0;32m    906\u001b[0m                 \u001b[0mself\u001b[0m\u001b[1;33m.\u001b[0m\u001b[0mlog\u001b[0m\u001b[1;33m.\u001b[0m\u001b[0mwarning\u001b[0m\u001b[1;33m(\u001b[0m\u001b[1;34m\"Invalid Message:\"\u001b[0m\u001b[1;33m,\u001b[0m \u001b[0mexc_info\u001b[0m\u001b[1;33m=\u001b[0m\u001b[1;32mTrue\u001b[0m\u001b[1;33m)\u001b[0m\u001b[1;33m\u001b[0m\u001b[1;33m\u001b[0m\u001b[0m\n",
            "\u001b[1;31mKeyboardInterrupt\u001b[0m: Interrupted by user"
          ]
        }
      ],
      "source": [
        "buildings = list(map(int, input().split()))\n",
        "print(max_dist(buildings))"
      ]
    },
    {
      "cell_type": "markdown",
      "metadata": {
        "id": "6266e6ee"
      },
      "source": [
        "2 0 1 1 0 1 0 2 1 2 -> 3"
      ]
    },
    {
      "cell_type": "code",
      "execution_count": null,
      "metadata": {
        "id": "118cc68c",
        "outputId": "e5f66c99-d831-40d7-ade7-a6f3ea6b2669"
      },
      "outputs": [
        {
          "name": "stdout",
          "output_type": "stream",
          "text": [
            "2 0 1 1 0 1 0 2 1 2\n",
            "[-1, -1, 2, 3, -1, 5, -1, -1, 1, -1]\n",
            "[-1, -1, 5, 4, -1, 2, -1, -1, 1, -1]\n",
            "3\n"
          ]
        }
      ],
      "source": [
        "def nearest_left(nums, shop):\n",
        "    ans = []\n",
        "    for i in range(len(nums)):\n",
        "        if nums[i] == 1:\n",
        "            ans.append( abs(i - shop))\n",
        "        else:\n",
        "            if nums[i] == 2:\n",
        "                shop = i\n",
        "            ans.append(-1)\n",
        "    return ans\n",
        "\n",
        "\n",
        "def max_dist(buildings):\n",
        "    max_dist = 0\n",
        "    near_left = nearest_left(buildings, -30)\n",
        "    near_right = nearest_left(buildings[::-1], 30)[::-1]\n",
        "    for i in range(len(buildings)):\n",
        "        if buildings[i] == 1:\n",
        "            if min(near_left[i], near_right[i]) > max_dist:\n",
        "                max_dist = min(near_left[i], near_right[i])\n",
        "    return max_dist  \n",
        "buildings = list(map(int, input().split()))\n",
        "print(max_dist(buildings))"
      ]
    },
    {
      "cell_type": "code",
      "execution_count": null,
      "metadata": {
        "id": "33f32502",
        "outputId": "6a8565b2-0f99-41a3-aa13-bb89a65dc220"
      },
      "outputs": [
        {
          "name": "stdout",
          "output_type": "stream",
          "text": [
            "cognitive\n",
            "4\n"
          ]
        }
      ],
      "source": [
        "def count_replace(string):\n",
        "    cnt = 0\n",
        "    for i in range(len(string) // 2):\n",
        "        if string[i] != string[-i-1]:\n",
        "            cnt += 1\n",
        "    return cnt\n",
        "string = input()\n",
        "print(count_replace(string))\n"
      ]
    },
    {
      "cell_type": "markdown",
      "metadata": {
        "id": "fb7a6a28"
      },
      "source": [
        "Тесты: \n",
        "\n",
        "строка четной длины\n",
        "\n",
        "строка нечетной длины\n",
        "\n",
        "строка палиндром\n",
        "\n",
        "строка из одного символа\n",
        "\n",
        "строка из вдух символов\n",
        "\n",
        "строка, в которой надо изменить половину букв"
      ]
    },
    {
      "cell_type": "code",
      "execution_count": null,
      "metadata": {
        "id": "3b9c9033",
        "outputId": "4e406c98-b552-4508-a0f5-f727413f8d20"
      },
      "outputs": [
        {
          "name": "stdout",
          "output_type": "stream",
          "text": [
            "3 3\n",
            "0 1\n",
            "1\n"
          ]
        }
      ],
      "source": [
        "def benches(L, legs):\n",
        "    mid = L / 2\n",
        "    for i in range(len(legs)):\n",
        "        if legs[i] >= mid:\n",
        "            break\n",
        "    if legs[i - 1] < mid < legs[i - 1] + 1:\n",
        "        print(legs[i - 1])\n",
        "    elif legs[i] < mid < legs[i] + 1:\n",
        "        print(legs[i])\n",
        "    elif legs[i - 1] < mid <= legs[i]:\n",
        "        print(legs[i - 1], legs[i])\n",
        "    \n",
        "L, K = list(map(int, input().split()))\n",
        "legs = list(map(int, input().split()))\n",
        "benches(L, legs)"
      ]
    },
    {
      "cell_type": "markdown",
      "metadata": {
        "id": "ab420985"
      },
      "source": [
        "Тесты:\n",
        "\n",
        "у лавочки одна ножка\n",
        "\n",
        "у лавочки несколько ножек, одна по центру:\n",
        "    по центру первая\n",
        "    по центру последняя\n",
        "    по центру не первая и не последняя\n",
        "\n",
        "у лавочки две ножки, обе не поцентру\n",
        "\n",
        "длина лавочки один\n",
        "\n",
        "длина лавочки два"
      ]
    },
    {
      "cell_type": "code",
      "execution_count": null,
      "metadata": {
        "id": "bb8cb296",
        "outputId": "1f64da5f-da0c-4418-b79c-69d6a468b68c"
      },
      "outputs": [
        {
          "name": "stdout",
          "output_type": "stream",
          "text": [
            "3\n",
            "5 1 2\n",
            "3\n"
          ]
        }
      ],
      "source": [
        "def count_time(a):\n",
        "    max_a = a[0]\n",
        "    summa = 0\n",
        "    for i in a:\n",
        "        if i > max_a:\n",
        "            max_a = i\n",
        "        summa += i\n",
        "    return summa - max_a\n",
        "\n",
        "n = int(input())\n",
        "a = list(map(int, input().split()))\n",
        "print(count_time(a))"
      ]
    },
    {
      "cell_type": "markdown",
      "metadata": {
        "id": "37582b81"
      },
      "source": [
        "Тесты:\n",
        "\n",
        "папка всего одна\n",
        "\n",
        "папки две\n",
        "\n",
        "папки с одинаковым количеством дипломов\n",
        "\n",
        "максимум в начале\n",
        "\n",
        "максимум в середине\n",
        "\n",
        "максимум в конце"
      ]
    },
    {
      "cell_type": "markdown",
      "metadata": {
        "id": "e9cc7f31"
      },
      "source": [
        "# Контест 3"
      ]
    },
    {
      "cell_type": "code",
      "execution_count": null,
      "metadata": {
        "id": "a21444b0"
      },
      "outputs": [],
      "source": [
        "def countinttwoarrays(num1, num2):\n",
        "    return len(set(num1) & set(num2))\n",
        "\n",
        "num1 = list(map(int, input().split()))\n",
        "num2 = list(map(int, input().split()))\n",
        "print(countinttwoarrays(num1, num2))"
      ]
    },
    {
      "cell_type": "code",
      "execution_count": null,
      "metadata": {
        "id": "708d23ff"
      },
      "outputs": [],
      "source": [
        "def iswasbefore(nums):\n",
        "    prev = set()\n",
        "    for num in nums:\n",
        "        if num in prev:\n",
        "            print('YES')\n",
        "        else:\n",
        "            print('NO')\n",
        "            prev.add(num)\n",
        "\n",
        "nums = list(map(int, input().split()))\n",
        "iswasbefore(nums)"
      ]
    },
    {
      "cell_type": "code",
      "execution_count": null,
      "metadata": {
        "id": "f7967858",
        "outputId": "d0241f88-d3a9-44b6-9804-75cca18d7302"
      },
      "outputs": [
        {
          "name": "stdout",
          "output_type": "stream",
          "text": [
            "1 2 2 3 3 3\n",
            "1\n"
          ]
        }
      ],
      "source": [
        "def printones(nums):\n",
        "    prev = set()\n",
        "    ans = []\n",
        "    for num in nums:\n",
        "        if num not in prev:\n",
        "            ans.append(str(num))\n",
        "            prev.add(num)\n",
        "        else:\n",
        "            if str(num) in ans:\n",
        "                ans.remove(str(num))\n",
        "    print(' '.join(ans))\n",
        "nums = list(map(int, input().split()))\n",
        "printones(nums)\n"
      ]
    },
    {
      "cell_type": "code",
      "execution_count": null,
      "metadata": {
        "id": "98a1c7c9",
        "outputId": "35e7ef85-c36f-49bc-e6f8-37c2ca64c450"
      },
      "outputs": [
        {
          "name": "stdout",
          "output_type": "stream",
          "text": [
            "100\n",
            "3 5 8 10 11 13 14 15 16 20 21 23 25 27 29 31 32 33 35 42 43 46 47 48 51 52 57 58 67 68 72 74 75 76 79 80 81 82 83 84 86 89 90 91 92 93 94 95 96 99\n",
            "YES\n",
            "1 4 7 9 14 16 17 19 20 23 25 27 28 29 30 31 32 33 41 42 45 46 48 50 52 54 59 60 61 63 66 67 68 69 70 71 73 74 79 81 82 83 89 90 91 92 93 94 95 100\n",
            "YES\n",
            "3 5 6 15 16 18 19 20 21 22 23 24 26 28 29 35 37 38 39 40 41 43 44 45 46 47 53 55 56 60 61 63 64 65 68 70 71 73 76 79 80 81 82 83 86 90 91 95 96 99\n",
            "YES\n",
            "1 2 3 5 11 16 17 23 25 31 32 33 34 35 38 39 41 43 44 46 47 49 51 53 58 59 62 63 68 69 70 72 73 74 76 77 78 79 80 81 82 83 85 86 93 94 95 97 99 100\n",
            "YES\n",
            "3 7 8 9 10 14 17 20 22 23 24 25 26 27 28 30 34 40 42 43 45 47 48 49 50 51 52 53 54 55 59 62 63 66 67 72 73 75 77 81 83 84 86 89 92 93 94 96 98 100\n",
            "YES\n",
            "HELP\n",
            "81 83 23 "
          ]
        }
      ],
      "source": [
        "n = int(input())\n",
        "s = set([i for i in range(1, n + 1)])\n",
        "q = input()\n",
        "while q != 'HELP':\n",
        "    ans = input()\n",
        "    q = list(map(int, q.split()))\n",
        "    if ans == 'YES':\n",
        "        s &= set(q)\n",
        "    elif ans == 'NO':\n",
        "        s -= set(q)\n",
        "    q = input()\n",
        "for i in sorted(s):\n",
        "    print(i,end=' ')\n"
      ]
    },
    {
      "cell_type": "code",
      "execution_count": null,
      "metadata": {
        "id": "0d7f3207"
      },
      "outputs": [],
      "source": [
        "n = int(input())\n",
        "svid = []\n",
        "for _ in range(n):\n",
        "    s = set(input())\n",
        "    svid.append(s)\n",
        "m = int(input())\n",
        "    "
      ]
    },
    {
      "cell_type": "code",
      "execution_count": null,
      "metadata": {
        "id": "51129934",
        "outputId": "66e96540-6130-480b-efba-39a4741c698e"
      },
      "outputs": [
        {
          "data": {
            "text/plain": [
              "{'d', 'k', 'l', 'w'}"
            ]
          },
          "execution_count": 33,
          "metadata": {},
          "output_type": "execute_result"
        }
      ],
      "source": [
        "s = 'dkldkwl'\n",
        "set(s)"
      ]
    },
    {
      "cell_type": "markdown",
      "metadata": {
        "id": "541f6efd"
      },
      "source": [
        "# Контест 5\n",
        "24.07"
      ]
    },
    {
      "cell_type": "markdown",
      "metadata": {
        "id": "4b229902"
      },
      "source": [
        "A"
      ]
    },
    {
      "cell_type": "code",
      "execution_count": null,
      "metadata": {
        "id": "b3950fc5",
        "outputId": "7b4d7c71-3533-4a6b-f759-ad6eba125e14"
      },
      "outputs": [
        {
          "name": "stdout",
          "output_type": "stream",
          "text": [
            "4 4\n",
            "1 2 3 4\n",
            "1 1\n",
            "1 2\n",
            "1 3\n",
            "1 4\n",
            "1\n",
            "3\n",
            "6\n",
            "10\n"
          ]
        }
      ],
      "source": [
        "def prefixsum(a):\n",
        "    ans = [0]\n",
        "    for i in range(len(a)):\n",
        "        ans.append(ans[i] + a[i])\n",
        "    return ans\n",
        "\n",
        "n, q = list(map(int, input().split()))\n",
        "a = list(map(int, input().split()))\n",
        "summa = prefixsum(a)\n",
        "res = []\n",
        "for _ in range(q):\n",
        "    left, right = list(map(int, input().split()))\n",
        "    res.append(summa[right] - summa[left - 1])\n",
        "for r in res:\n",
        "    print(r)"
      ]
    },
    {
      "cell_type": "markdown",
      "metadata": {
        "id": "40917ded"
      },
      "source": [
        "B"
      ]
    },
    {
      "cell_type": "code",
      "execution_count": null,
      "metadata": {
        "id": "8eaad0ac",
        "outputId": "8b219976-4b64-499b-9b2f-fb8240ce2bf6"
      },
      "outputs": [
        {
          "name": "stdout",
          "output_type": "stream",
          "text": [
            "4\n",
            "10 -1 -3 4\n",
            "10\n"
          ]
        }
      ],
      "source": [
        "def prefixsum(a):\n",
        "    ans = [0]\n",
        "    for i in range(len(a)):\n",
        "        ans.append(ans[i] + a[i])\n",
        "    return ans\n",
        "def maxsumonsegment(a, n):\n",
        "    summa = prefixsum(a)\n",
        "    min_el = summa[0]\n",
        "    max_el = summa[1]\n",
        "    max_sum = max_el - min_el\n",
        "    for i in range(1, len(summa)):\n",
        "        s = summa[i]\n",
        "        if s > max_el:\n",
        "            if s - min_el > max_sum:\n",
        "                max_el = s\n",
        "                max_sum = s - min_el\n",
        "        if s < min_el:\n",
        "            min_el = s\n",
        "            max_el = - (10**9) * n\n",
        "    return max_sum\n",
        "    \n",
        "n = int(input())\n",
        "a = list(map(int, input().split()))\n",
        "print(maxsumonsegment(a, n))"
      ]
    },
    {
      "cell_type": "markdown",
      "metadata": {
        "id": "0c5e8180"
      },
      "source": [
        "Тесты:\n",
        "\n",
        "в массиве одно число\n",
        "\n",
        "в массиве все отрицательные числа\n",
        "\n",
        "маскимум не отрезке длины один, этот максимум в начале, в середине, в конце\n"
      ]
    },
    {
      "cell_type": "markdown",
      "metadata": {
        "id": "32ea574e"
      },
      "source": [
        "C"
      ]
    },
    {
      "cell_type": "code",
      "execution_count": null,
      "metadata": {
        "id": "897a4b93",
        "outputId": "d7cd2f65-2608-4670-e55d-4c4156613e59"
      },
      "outputs": [
        {
          "name": "stdout",
          "output_type": "stream",
          "text": [
            "1 1\n",
            "2 1\n",
            "2 3\n",
            "3\n",
            "2 1 "
          ]
        }
      ],
      "source": [
        "def taskC(x, y):\n",
        "    ans = [0 for i in range(len(x))]\n",
        "    d = {j: 0 for j in range(len(y))}\n",
        "    cnt = 0\n",
        "    for i in range(len(x)):\n",
        "        m = 10000\n",
        "        prev = -1\n",
        "        for j in range(len(y)):\n",
        "            if 0 <= y[j] - (x[i] + 1) < m and d[j] != 1:\n",
        "                d[prev] = 0\n",
        "                m = y[j] - (x[i] + 1)\n",
        "                d[j] = 1\n",
        "                prev = j\n",
        "        if prev != -1:\n",
        "            ans[i] = prev + 1\n",
        "            cnt += 1\n",
        "    print(cnt)\n",
        "    for i in ans:\n",
        "        print(i, end=' ')\n",
        "    \n",
        "n, m = list(map(int, input().split()))\n",
        "x = list(map(int, input().split()))\n",
        "y = list(map(int, input().split()))\n",
        "taskC(x, y)\n",
        "                "
      ]
    },
    {
      "cell_type": "markdown",
      "metadata": {
        "id": "fccd92ac"
      },
      "source": [
        "D"
      ]
    },
    {
      "cell_type": "code",
      "execution_count": null,
      "metadata": {
        "id": "b193a25c",
        "outputId": "cdea5d45-db9d-4b19-a2cf-6295a2d581b7"
      },
      "outputs": [
        {
          "name": "stdout",
          "output_type": "stream",
          "text": [
            "(()())\n",
            "YES\n"
          ]
        }
      ],
      "source": [
        "def iscommonsright(string):\n",
        "    l = []\n",
        "    for s in string:\n",
        "        if s == '(':\n",
        "            l.append(s)\n",
        "        elif s == ')':\n",
        "            if len(l) == 0:\n",
        "                print('NO')\n",
        "                return\n",
        "            else:\n",
        "                l.pop()\n",
        "    if len(l) == 0:\n",
        "        print('YES')\n",
        "    else:\n",
        "        print('NO')\n",
        "    \n",
        "string = list(input())\n",
        "iscommonsright(string)"
      ]
    },
    {
      "cell_type": "markdown",
      "metadata": {
        "id": "89a464d0"
      },
      "source": [
        "E"
      ]
    },
    {
      "cell_type": "code",
      "execution_count": null,
      "metadata": {
        "id": "7763673c"
      },
      "outputs": [],
      "source": [
        "def sumS(a, b, c, s):\n",
        "    for i in range(len(a)):\n",
        "        for j in range(len(b)):\n",
        "            for k in range(len(c)):\n",
        "                if a[i] + b[j] + c[k] == s:\n",
        "                    return i,j,k\n",
        "    return -1\n",
        "\n",
        "s = int(input())\n",
        "a = list(map(int, input().split()[1:]))\n",
        "b = list(map(int, input().split()[1:]))\n",
        "c = list(map(int, input().split()[1:]))\n",
        "ans = sumS(a, b, c, s)\n",
        "if ans == -1:\n",
        "    print(-1)\n",
        "else:\n",
        "    print(*ans)"
      ]
    },
    {
      "cell_type": "code",
      "execution_count": null,
      "metadata": {
        "id": "9742a39e"
      },
      "outputs": [],
      "source": [
        "def sumS(a, b, c, s):\n",
        "    for i in range(len(a)):\n",
        "        for j in range(len(b)):\n",
        "            for k in range(len(c)):\n",
        "                if int(a[i]) + int(b[j]) + int(c[k]) == s:\n",
        "                    return i,j,k\n",
        "    return -1\n",
        "\n",
        "s = int(input())\n",
        "a = input().split()[1:]\n",
        "b = input().split()[1:]\n",
        "c = input().split()[1:]\n",
        "ans = sumS(a, b, c, s)\n",
        "if ans == -1:\n",
        "    print(-1)\n",
        "else:\n",
        "    print(*ans)"
      ]
    },
    {
      "cell_type": "code",
      "execution_count": null,
      "metadata": {
        "id": "e846941e",
        "outputId": "d52830a2-34df-43d9-f213-5b296af61843"
      },
      "outputs": [
        {
          "name": "stdout",
          "output_type": "stream",
          "text": [
            "5\n",
            "4 1 2 3 4\n",
            "3 5 2 1\n",
            "4 5 3 2 2\n",
            "0 1 2\n"
          ]
        }
      ],
      "source": [
        "def sumS(a, b, c, s):\n",
        "    d = {}\n",
        "    for k in range(len(c)):\n",
        "        d[c[k]] = min(d.get(c[k], len(c)), k) \n",
        "    \n",
        "    for i in range(len(a)):\n",
        "        for j in range(len(b)):\n",
        "            need = s - a[i] - b[j]\n",
        "            if need in d:\n",
        "                return i, j, d[need]\n",
        "    return -1\n",
        "\n",
        "s = int(input())\n",
        "a = list(map(int, input().split()[1:]))\n",
        "b = list(map(int, input().split()[1:]))\n",
        "c = list(map(int, input().split()[1:]))\n",
        "ans = sumS(a, b, c, s)\n",
        "if ans == -1:\n",
        "    print(-1)\n",
        "else:\n",
        "    print(*ans)"
      ]
    },
    {
      "cell_type": "markdown",
      "metadata": {
        "id": "550d6116"
      },
      "source": [
        "# Контест 6\n",
        "24.07"
      ]
    },
    {
      "cell_type": "markdown",
      "metadata": {
        "id": "d898d34a"
      },
      "source": [
        "A"
      ]
    },
    {
      "cell_type": "code",
      "execution_count": null,
      "metadata": {
        "id": "3796fcff"
      },
      "outputs": [],
      "source": [
        "def binsearchleft(nums, x):\n",
        "    left = 0\n",
        "    right = len(nums) - 1\n",
        "    m = (left + right) // 2\n",
        "    while left < right:\n",
        "        if nums[m] >= x:\n",
        "            right = m\n",
        "        else:\n",
        "            left = m + 1\n",
        "        m = (left + right) // 2\n",
        "    if nums[left] < x:\n",
        "        return len(nums)\n",
        "    return left"
      ]
    },
    {
      "cell_type": "code",
      "execution_count": null,
      "metadata": {
        "id": "ba32de13",
        "outputId": "c6980fe9-7a28-4e97-a03e-444bc8799b72"
      },
      "outputs": [
        {
          "data": {
            "text/plain": [
              "0"
            ]
          },
          "execution_count": 6,
          "metadata": {},
          "output_type": "execute_result"
        }
      ],
      "source": [
        "nums = [4, 5]\n",
        "x = 4\n",
        "binsearchleft(nums, x)"
      ]
    },
    {
      "cell_type": "code",
      "execution_count": null,
      "metadata": {
        "id": "79d63b99"
      },
      "outputs": [],
      "source": [
        "def binsearchright(nums, x):\n",
        "    left = 0\n",
        "    right = len(nums) - 1\n",
        "    m = (left + right + 1) // 2\n",
        "    while left < right:\n",
        "        if nums[m] <= x:\n",
        "            left = m\n",
        "        else:\n",
        "            right = m - 1\n",
        "        m = (left + right + 1) // 2\n",
        "    if nums[left] > x:\n",
        "        return -1\n",
        "    return left"
      ]
    },
    {
      "cell_type": "code",
      "execution_count": null,
      "metadata": {
        "id": "7d4fbc30",
        "outputId": "e8ea99a5-6cd6-412c-e0fe-2d5a65a86555"
      },
      "outputs": [
        {
          "data": {
            "text/plain": [
              "0"
            ]
          },
          "execution_count": 24,
          "metadata": {},
          "output_type": "execute_result"
        }
      ],
      "source": [
        "nums = [1]\n",
        "x = 1000000000\n",
        "binsearchright(nums, x)"
      ]
    },
    {
      "cell_type": "code",
      "execution_count": null,
      "metadata": {
        "scrolled": false,
        "id": "70933a0d",
        "outputId": "83c6b973-207b-40d3-c5a5-96913a86109c"
      },
      "outputs": [
        {
          "name": "stdout",
          "output_type": "stream",
          "text": [
            "3\n",
            "1 5 6\n",
            "4\n",
            "1 1\n",
            "1 2\n",
            "2 3\n",
            "3 4\n",
            "1 1 0 0 "
          ]
        }
      ],
      "source": [
        "def binsearchright(nums, x):\n",
        "    left = 0\n",
        "    right = len(nums) - 1\n",
        "    m = (left + right + 1) // 2\n",
        "    while left < right:\n",
        "        if nums[m] <= x:\n",
        "            left = m\n",
        "        else:\n",
        "            right = m - 1\n",
        "        m = (left + right + 1) // 2\n",
        "    if nums[left] > x:\n",
        "        return -1\n",
        "    return left\n",
        "\n",
        "def binsearchleft(nums, x):\n",
        "    left = 0\n",
        "    right = len(nums) - 1\n",
        "    m = (left + right) // 2\n",
        "    while left < right:\n",
        "        if nums[m] >= x:\n",
        "            right = m\n",
        "        else:\n",
        "            left = m + 1\n",
        "        m = (left + right) // 2\n",
        "    if nums[left] < x:\n",
        "        return len(nums)\n",
        "    return left\n",
        "\n",
        "def taskA(nums, quests):\n",
        "    nums = sorted(nums)\n",
        "    for q in quests:\n",
        "        l = q[0]\n",
        "        r = q[1]\n",
        "        print(max(binsearchright(nums, r) - binsearchleft(nums, l) + 1, 0), end =' ')\n",
        "n = int(input())\n",
        "nums = list(map(int, input().split()))\n",
        "k = int(input())\n",
        "quests = []\n",
        "for _ in range(k):\n",
        "    quests.append(list(map(int, input().split())))\n",
        "taskA(nums, quests)\n"
      ]
    },
    {
      "cell_type": "markdown",
      "metadata": {
        "id": "bee1fd45"
      },
      "source": [
        "B"
      ]
    },
    {
      "cell_type": "code",
      "execution_count": null,
      "metadata": {
        "id": "2eda296c",
        "outputId": "925c5776-125b-4986-f54e-aea2c19a42d3"
      },
      "outputs": [
        {
          "name": "stdout",
          "output_type": "stream",
          "text": [
            "10\n",
            "1 3 3 3 3 6 8 8 9 10\n",
            "10\n",
            "2 9 6 4 2 9 3 7 9 7\n",
            "0 0\n",
            "9 9\n",
            "6 6\n",
            "0 0\n",
            "0 0\n",
            "9 9\n",
            "2 5\n",
            "0 0\n",
            "9 9\n",
            "0 0\n"
          ]
        }
      ],
      "source": [
        "def binsearchleft(nums, x):\n",
        "    left = 0\n",
        "    right = len(nums) - 1\n",
        "    m = (left + right) // 2\n",
        "    while left < right:\n",
        "        if nums[m] >= x:\n",
        "            right = m\n",
        "        else:\n",
        "            left = m + 1\n",
        "        m = (left + right) // 2\n",
        "    if nums[left] != x:\n",
        "        return -1\n",
        "    return left\n",
        "\n",
        "def binsearchright(nums, x):\n",
        "    left = 0\n",
        "    right = len(nums) - 1\n",
        "    m = (left + right + 1) // 2\n",
        "    while left < right:\n",
        "        if nums[m] <= x:\n",
        "            left = m\n",
        "        else:\n",
        "            right = m - 1\n",
        "        m = (left + right + 1) // 2\n",
        "    if nums[left] != x:\n",
        "        return -1\n",
        "    return right\n",
        "\n",
        "n = int(input())\n",
        "nums = list(map(int, input().split()))\n",
        "m = int(input())\n",
        "requests = list(map(int, input().split()))\n",
        "\n",
        "def number_of_embedding(nums, requests):\n",
        "    for x in requests:\n",
        "        left = binsearchleft(nums, x)\n",
        "        right = binsearchright(nums, x)\n",
        "        print(left + 1, right + 1)\n",
        "        \n",
        "number_of_embedding(nums, requests)"
      ]
    },
    {
      "cell_type": "markdown",
      "metadata": {
        "id": "750ff1a4"
      },
      "source": [
        "C"
      ]
    },
    {
      "cell_type": "code",
      "execution_count": null,
      "metadata": {
        "id": "7cd61668",
        "outputId": "e58ea7ca-7600-408a-f050-d31d473d1101"
      },
      "outputs": [
        {
          "name": "stdout",
          "output_type": "stream",
          "text": [
            "1 -3 3 -1\n",
            "1.0000036354540498\n"
          ]
        }
      ],
      "source": [
        "def f(a,b,c,d, x):\n",
        "    return a * (x ** 3) + b * (x**2) + c * x + d\n",
        "\n",
        "def root_f(a, b, c, d, eps = 10**(-5)):\n",
        "    left = - 10 ** 9\n",
        "    right = 10 ** 9\n",
        "    m = (left + right) / 2\n",
        "    if a > 0:\n",
        "        while left + eps < right:\n",
        "            if f(a,b, c, d, m) > 0:\n",
        "                right = m\n",
        "            else:\n",
        "                left = m\n",
        "            m = (left + right) / 2\n",
        "        return left\n",
        "    elif a < 0:\n",
        "        while left + eps < right:\n",
        "            if f(a,b, c, d, m) < 0:\n",
        "                right = m\n",
        "            else:\n",
        "                left = m\n",
        "            m = (left + right) / 2\n",
        "        return left\n",
        "\n",
        "a, b, c, d = list(map(int, input().split()))\n",
        "print(root_f(a, b, c, d, eps = 10**(-5)))"
      ]
    },
    {
      "cell_type": "markdown",
      "metadata": {
        "id": "8721a4e1"
      },
      "source": [
        "D"
      ]
    },
    {
      "cell_type": "code",
      "execution_count": null,
      "metadata": {
        "id": "9195b779",
        "outputId": "b5f91161-4fb2-49b1-a22d-6381318b4a2e"
      },
      "outputs": [
        {
          "name": "stdout",
          "output_type": "stream",
          "text": [
            "19 3 14 6 113\n",
            "4\n"
          ]
        }
      ],
      "source": [
        "a, k, b, m, x = list(map(int, input().split()))\n",
        "\n",
        "left = 0\n",
        "right = x\n",
        "mean = (left + right) // 2\n",
        "while left < right:\n",
        "    if mean * (a + b) - a * (mean // k) - b * (mean // m) >= x:\n",
        "        right = mean\n",
        "    else:\n",
        "        left = mean + 1\n",
        "    mean = (left + right) // 2\n",
        "    \n",
        "print(left)"
      ]
    },
    {
      "cell_type": "markdown",
      "metadata": {
        "id": "68425611"
      },
      "source": [
        "E"
      ]
    },
    {
      "cell_type": "code",
      "execution_count": null,
      "metadata": {
        "id": "d842c435"
      },
      "outputs": [],
      "source": [
        "n, k = list(map(int, input().split()))\n",
        "x = list(map(int, input().split()))\n",
        "left = 1\n",
        "right = \n"
      ]
    },
    {
      "cell_type": "markdown",
      "metadata": {
        "id": "a9c075d2"
      },
      "source": [
        "# Контест 7\n",
        "25.07"
      ]
    },
    {
      "cell_type": "code",
      "execution_count": null,
      "metadata": {
        "id": "45fdc7ad"
      },
      "outputs": [],
      "source": [
        ""
      ]
    },
    {
      "cell_type": "markdown",
      "metadata": {
        "id": "b3b389ef"
      },
      "source": [
        "# Контест 8\n",
        "25.07"
      ]
    },
    {
      "cell_type": "code",
      "execution_count": null,
      "metadata": {
        "id": "402f6ed8"
      },
      "outputs": [],
      "source": [
        "class Node():\n",
        "    def __init__(self, val=None):\n",
        "        self.val = val\n",
        "        self.left = None\n",
        "        self.right = None\n",
        "        \n",
        "class Tree():\n",
        "    def __init__(self):\n",
        "        self.root = None\n",
        "        \n",
        "    def add(self, val):\n",
        "        if self.root is None:\n",
        "            self.root = Node(val)\n",
        "        else:\n",
        "            self.add1(val, self.root)\n",
        "    def add1(self, val, node):\n",
        "        if node is None:\n",
        "            node = Node(val)\n",
        "            print('DONE')\n",
        "        else:\n",
        "            if val < node.val:\n",
        "                self.add1(val, node.right)\n",
        "            elif val > node.val:\n",
        "                self.add1(val, node.left)\n",
        "            elif val == node.val:\n",
        "                print('ALREADY')\n",
        "            \n",
        "    def search(self, val):\n",
        "        if self.root is None:\n",
        "            print('NO')\n",
        "        else:\n",
        "            res = self.search1(val, self.root)\n",
        "            if res:\n",
        "                print('YES')\n",
        "            else:\n",
        "                print('NO')\n",
        "    def search1(self, val, node):\n",
        "        if node is None:\n",
        "            return 0\n",
        "        if node.val == val:\n",
        "            return 1\n",
        "        elif val < node.val:\n",
        "            res = self.search1(val, node.right)\n",
        "        else:\n",
        "            res = self.search1(val, node.left)\n",
        "        return res\n",
        "    \n",
        "    def print_tree(self):\n",
        "        if self.root is not None:\n",
        "            self.prit_tree1(self.root)\n",
        "    def print_tree1(self, node):\n",
        "        if node is not None:\n",
        "            self.print_tree1(node.left)\n",
        "            \n",
        "    "
      ]
    },
    {
      "cell_type": "markdown",
      "metadata": {
        "id": "f7b28600"
      },
      "source": [
        "В"
      ]
    },
    {
      "cell_type": "code",
      "execution_count": null,
      "metadata": {
        "id": "922568a8",
        "outputId": "bdcc6661-8eb5-4501-e34f-56cd9791c315"
      },
      "outputs": [
        {
          "name": "stdout",
          "output_type": "stream",
          "text": [
            "Alexei Paul_I\n",
            "\n",
            "0\n"
          ]
        }
      ],
      "source": [
        "# n = int(input())\n",
        "d = {}\n",
        "for _ in range(n - 1):\n",
        "    child, parent = input().split()\n",
        "    d[child] = parent\n",
        "    \n",
        "def search(name1, name2, d):\n",
        "    if name1 not in d:\n",
        "        return 0\n",
        "    if d[name1] == name2:\n",
        "        return 2\n",
        "    return search(d[name1], name2, d)\n",
        "    \n",
        "q = input()\n",
        "ans = []\n",
        "while q != '':\n",
        "    name1, name2 = q.split()\n",
        "    ans1 = search(name1, name2, d)\n",
        "    if ans1 == 2:\n",
        "        ans.append('2')\n",
        "    elif ans1 == 0:\n",
        "        ans2 = search(name2, name1, d)\n",
        "        if ans2 == 2:\n",
        "            ans.append('1')\n",
        "        elif ans2 == 0:\n",
        "            ans.append('0')\n",
        "    q = input()\n",
        "print(' '.join(ans))"
      ]
    },
    {
      "cell_type": "code",
      "execution_count": null,
      "metadata": {
        "id": "f99767d5",
        "outputId": "1644cb72-4c98-41f5-d6f1-1c7674c987c4"
      },
      "outputs": [
        {
          "name": "stdout",
          "output_type": "stream",
          "text": [
            "1 2 0 "
          ]
        }
      ],
      "source": [
        "def search(name1, name2, d):\n",
        "    if name1 not in d:\n",
        "        return 0\n",
        "    if d[name1] == name2:\n",
        "        return 2\n",
        "    return search(d[name1], name2, d)\n",
        "\n",
        "with open('input.txt') as f:\n",
        "    lines = f.readlines()\n",
        "    n = int(lines[0])\n",
        "    d = {}\n",
        "    for i in range(1, n):\n",
        "        child, parent = lines[i].split()\n",
        "        d[child] = parent\n",
        "    for line in lines[n:]:\n",
        "        name1, name2 = line.split()\n",
        "        ans1 = search(name1, name2, d)\n",
        "        if ans1 == 2:\n",
        "            print(2, end=' ')\n",
        "        elif ans1 == 0:\n",
        "            ans2 = search(name2, name1, d)\n",
        "            if ans2 == 2:\n",
        "                print(1, end=' ')\n",
        "            elif ans2 == 0:\n",
        "                print(0, end=' ')"
      ]
    },
    {
      "cell_type": "code",
      "execution_count": null,
      "metadata": {
        "id": "27c40fcc",
        "outputId": "522627fd-016e-4504-ee89-393b53676708"
      },
      "outputs": [
        {
          "name": "stdout",
          "output_type": "stream",
          "text": [
            "Paul_I\n",
            "Peter_I\n",
            "Anna\n"
          ]
        }
      ],
      "source": [
        "def search(name, d):\n",
        "    res = []\n",
        "    res.append(name)\n",
        "    while name in d:\n",
        "        res.append(d[name])\n",
        "        name = d[name]\n",
        "    return res\n",
        "\n",
        "with open('input.txt') as f:\n",
        "    lines = f.readlines()\n",
        "    n = int(lines[0])\n",
        "    d = {}\n",
        "    for i in range(1, n):\n",
        "        child, parent = lines[i].split()\n",
        "        d[child] = parent\n",
        "    for line in lines[n:]:\n",
        "        name1, name2 = line.split()\n",
        "        set_name1 = set(search(name1, d))\n",
        "        for parent in search(name2, d):\n",
        "            if parent in set_name1:\n",
        "                print(parent)\n",
        "                break"
      ]
    },
    {
      "cell_type": "code",
      "execution_count": null,
      "metadata": {
        "id": "163148c6",
        "outputId": "63d968e4-bc7f-4276-f5af-dac9d0830442"
      },
      "outputs": [
        {
          "ename": "AttributeError",
          "evalue": "'set' object has no attribute 'isempty'",
          "output_type": "error",
          "traceback": [
            "\u001b[1;31m---------------------------------------------------------------------------\u001b[0m",
            "\u001b[1;31mAttributeError\u001b[0m                            Traceback (most recent call last)",
            "\u001b[1;32m<ipython-input-11-ab72e6513c58>\u001b[0m in \u001b[0;36m<module>\u001b[1;34m\u001b[0m\n\u001b[0;32m      1\u001b[0m \u001b[0ma\u001b[0m \u001b[1;33m=\u001b[0m \u001b[0mset\u001b[0m\u001b[1;33m(\u001b[0m\u001b[1;33m)\u001b[0m\u001b[1;33m\u001b[0m\u001b[1;33m\u001b[0m\u001b[0m\n\u001b[1;32m----> 2\u001b[1;33m \u001b[0ma\u001b[0m\u001b[1;33m.\u001b[0m\u001b[0misempty\u001b[0m\u001b[1;33m(\u001b[0m\u001b[1;33m)\u001b[0m\u001b[1;33m\u001b[0m\u001b[1;33m\u001b[0m\u001b[0m\n\u001b[0m",
            "\u001b[1;31mAttributeError\u001b[0m: 'set' object has no attribute 'isempty'"
          ]
        }
      ],
      "source": [
        "a = set()\n",
        "a.isempty()"
      ]
    },
    {
      "cell_type": "code",
      "execution_count": null,
      "metadata": {
        "id": "bcb0eb8e",
        "outputId": "c89b1855-83aa-4b71-e856-87e294648b64"
      },
      "outputs": [
        {
          "name": "stdout",
          "output_type": "stream",
          "text": [
            "Help on set object:\n",
            "\n",
            "class set(object)\n",
            " |  set() -> new empty set object\n",
            " |  set(iterable) -> new set object\n",
            " |  \n",
            " |  Build an unordered collection of unique elements.\n",
            " |  \n",
            " |  Methods defined here:\n",
            " |  \n",
            " |  __and__(self, value, /)\n",
            " |      Return self&value.\n",
            " |  \n",
            " |  __contains__(...)\n",
            " |      x.__contains__(y) <==> y in x.\n",
            " |  \n",
            " |  __eq__(self, value, /)\n",
            " |      Return self==value.\n",
            " |  \n",
            " |  __ge__(self, value, /)\n",
            " |      Return self>=value.\n",
            " |  \n",
            " |  __getattribute__(self, name, /)\n",
            " |      Return getattr(self, name).\n",
            " |  \n",
            " |  __gt__(self, value, /)\n",
            " |      Return self>value.\n",
            " |  \n",
            " |  __iand__(self, value, /)\n",
            " |      Return self&=value.\n",
            " |  \n",
            " |  __init__(self, /, *args, **kwargs)\n",
            " |      Initialize self.  See help(type(self)) for accurate signature.\n",
            " |  \n",
            " |  __ior__(self, value, /)\n",
            " |      Return self|=value.\n",
            " |  \n",
            " |  __isub__(self, value, /)\n",
            " |      Return self-=value.\n",
            " |  \n",
            " |  __iter__(self, /)\n",
            " |      Implement iter(self).\n",
            " |  \n",
            " |  __ixor__(self, value, /)\n",
            " |      Return self^=value.\n",
            " |  \n",
            " |  __le__(self, value, /)\n",
            " |      Return self<=value.\n",
            " |  \n",
            " |  __len__(self, /)\n",
            " |      Return len(self).\n",
            " |  \n",
            " |  __lt__(self, value, /)\n",
            " |      Return self<value.\n",
            " |  \n",
            " |  __ne__(self, value, /)\n",
            " |      Return self!=value.\n",
            " |  \n",
            " |  __or__(self, value, /)\n",
            " |      Return self|value.\n",
            " |  \n",
            " |  __rand__(self, value, /)\n",
            " |      Return value&self.\n",
            " |  \n",
            " |  __reduce__(...)\n",
            " |      Return state information for pickling.\n",
            " |  \n",
            " |  __repr__(self, /)\n",
            " |      Return repr(self).\n",
            " |  \n",
            " |  __ror__(self, value, /)\n",
            " |      Return value|self.\n",
            " |  \n",
            " |  __rsub__(self, value, /)\n",
            " |      Return value-self.\n",
            " |  \n",
            " |  __rxor__(self, value, /)\n",
            " |      Return value^self.\n",
            " |  \n",
            " |  __sizeof__(...)\n",
            " |      S.__sizeof__() -> size of S in memory, in bytes\n",
            " |  \n",
            " |  __sub__(self, value, /)\n",
            " |      Return self-value.\n",
            " |  \n",
            " |  __xor__(self, value, /)\n",
            " |      Return self^value.\n",
            " |  \n",
            " |  add(...)\n",
            " |      Add an element to a set.\n",
            " |      \n",
            " |      This has no effect if the element is already present.\n",
            " |  \n",
            " |  clear(...)\n",
            " |      Remove all elements from this set.\n",
            " |  \n",
            " |  copy(...)\n",
            " |      Return a shallow copy of a set.\n",
            " |  \n",
            " |  difference(...)\n",
            " |      Return the difference of two or more sets as a new set.\n",
            " |      \n",
            " |      (i.e. all elements that are in this set but not the others.)\n",
            " |  \n",
            " |  difference_update(...)\n",
            " |      Remove all elements of another set from this set.\n",
            " |  \n",
            " |  discard(...)\n",
            " |      Remove an element from a set if it is a member.\n",
            " |      \n",
            " |      If the element is not a member, do nothing.\n",
            " |  \n",
            " |  intersection(...)\n",
            " |      Return the intersection of two sets as a new set.\n",
            " |      \n",
            " |      (i.e. all elements that are in both sets.)\n",
            " |  \n",
            " |  intersection_update(...)\n",
            " |      Update a set with the intersection of itself and another.\n",
            " |  \n",
            " |  isdisjoint(...)\n",
            " |      Return True if two sets have a null intersection.\n",
            " |  \n",
            " |  issubset(...)\n",
            " |      Report whether another set contains this set.\n",
            " |  \n",
            " |  issuperset(...)\n",
            " |      Report whether this set contains another set.\n",
            " |  \n",
            " |  pop(...)\n",
            " |      Remove and return an arbitrary set element.\n",
            " |      Raises KeyError if the set is empty.\n",
            " |  \n",
            " |  remove(...)\n",
            " |      Remove an element from a set; it must be a member.\n",
            " |      \n",
            " |      If the element is not a member, raise a KeyError.\n",
            " |  \n",
            " |  symmetric_difference(...)\n",
            " |      Return the symmetric difference of two sets as a new set.\n",
            " |      \n",
            " |      (i.e. all elements that are in exactly one of the sets.)\n",
            " |  \n",
            " |  symmetric_difference_update(...)\n",
            " |      Update a set with the symmetric difference of itself and another.\n",
            " |  \n",
            " |  union(...)\n",
            " |      Return the union of sets as a new set.\n",
            " |      \n",
            " |      (i.e. all elements that are in either set.)\n",
            " |  \n",
            " |  update(...)\n",
            " |      Update a set with the union of itself and others.\n",
            " |  \n",
            " |  ----------------------------------------------------------------------\n",
            " |  Static methods defined here:\n",
            " |  \n",
            " |  __new__(*args, **kwargs) from builtins.type\n",
            " |      Create and return a new object.  See help(type) for accurate signature.\n",
            " |  \n",
            " |  ----------------------------------------------------------------------\n",
            " |  Data and other attributes defined here:\n",
            " |  \n",
            " |  __hash__ = None\n",
            "\n"
          ]
        }
      ],
      "source": [
        "help(a)"
      ]
    },
    {
      "cell_type": "code",
      "execution_count": null,
      "metadata": {
        "id": "86a95e56"
      },
      "outputs": [],
      "source": [
        ""
      ]
    }
  ]
}